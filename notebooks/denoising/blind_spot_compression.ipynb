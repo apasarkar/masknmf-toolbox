{
 "cells": [
  {
   "cell_type": "markdown",
   "id": "72243f2c-26d2-43fe-af09-0c4dccea6199",
   "metadata": {},
   "source": [
    "# This demo shows how to use a pre-trained blind spot denoiser in the loop with PMD to obtain a denoised + compressed representation of your data. This notebook assumes you already have a blind spot denoising network, obtained from running a training loop like the one found in training_demo.ipynb in the denoising notebooks folder"
   ]
  },
  {
   "cell_type": "code",
   "execution_count": 2,
   "id": "54dee1aa-a8a2-4c43-bf66-ab6eced682b1",
   "metadata": {},
   "outputs": [],
   "source": [
    "import os\n",
    "\n",
    "import fastplotlib as fpl\n",
    "import sys\n",
    "import masknmf\n",
    "import tifffile\n",
    "import torch\n",
    "import numpy as np\n",
    "\n",
    "import matplotlib.pyplot as plt\n",
    "import time\n",
    "from typing import *\n",
    "import pathlib\n",
    "from pathlib import Path\n",
    "%load_ext line_profiler\n",
    "%matplotlib inline\n",
    "%load_ext autoreload"
   ]
  },
  {
   "cell_type": "markdown",
   "id": "476c3563-42f3-4838-8fdb-3b61369eb137",
   "metadata": {},
   "source": [
    "# Load the neural network here and wrap it a PMDTemporalDenoiser object"
   ]
  },
  {
   "cell_type": "code",
   "execution_count": 2,
   "id": "3e9418eb-ceae-41db-bd66-75143b899576",
   "metadata": {},
   "outputs": [],
   "source": [
    "trained_model = np.load(\"neural_net.npz\", allow_pickle=True)['model'].item()\n",
    "curr_temporal_denoiser = masknmf.compression.PMDTemporalDenoiser(trained_model)"
   ]
  },
  {
   "cell_type": "markdown",
   "id": "d96a2c4a-a177-4fcd-8acb-b6669989aaa8",
   "metadata": {},
   "source": [
    "# Load a motion corrected dataset"
   ]
  },
  {
   "cell_type": "code",
   "execution_count": 3,
   "id": "ed663f0d-7ca9-4184-8550-5366033cf1b6",
   "metadata": {},
   "outputs": [],
   "source": [
    "my_data  = tifffile.imread(\"/path/to/dataset.tiff\")"
   ]
  },
  {
   "cell_type": "markdown",
   "id": "54871cae-c04e-4cee-ae5a-0be1942fb4b5",
   "metadata": {},
   "source": [
    "# Run blind spot compression, passing in the temporal denoiser object as a parameter"
   ]
  },
  {
   "cell_type": "code",
   "execution_count": 1,
   "id": "6900569f-2bf9-4233-a4e6-4342a97f706e",
   "metadata": {},
   "outputs": [],
   "source": [
    "pmd_with_denoiser = masknmf.compression.pmd_decomposition(my_data,\n",
    "                                                [32, 32],\n",
    "                                                my_data.shape[0],\n",
    "                                                max_components = 20,\n",
    "                                                max_consecutive_failures = 1,\n",
    "                                                temporal_avg_factor=4,\n",
    "                                                spatial_avg_factor=1,\n",
    "                                                background_rank = 0,\n",
    "                                                device = \"cuda\",\n",
    "                                                pixel_weighting=None,\n",
    "                                                frame_batch_size = 1024,\n",
    "                                                temporal_denoiser = curr_temporal_denoiser)"
   ]
  },
  {
   "cell_type": "markdown",
   "id": "0be19aee-f9a4-4f3b-a1a8-30691d87c0dc",
   "metadata": {},
   "source": [
    "# You can directly use this PMD object to run demixing (see the demos in notebooks/demixing). The first and most basic visualization of the results here involves looking at the raw data, pmd outputs, and residual. "
   ]
  },
  {
   "cell_type": "code",
   "execution_count": 5,
   "id": "cd92a263-8a63-4946-8271-6a500dfb3202",
   "metadata": {},
   "outputs": [],
   "source": [
    "resid_arr = masknmf.compression.PMDResidualArray(my_data, pmd_with_denoiser)"
   ]
  },
  {
   "cell_type": "markdown",
   "id": "6b5d9470-ddfd-44f1-b23e-41aa58ada5eb",
   "metadata": {},
   "source": [
    "# If you have a nvidia cuda device, move everything to GPU"
   ]
  },
  {
   "cell_type": "code",
   "execution_count": 6,
   "id": "04813bd6-05b4-4bb3-8bf6-6ad9aa3c4063",
   "metadata": {},
   "outputs": [],
   "source": [
    "pmd_with_denoiser.to('cuda') #If you do not, skip this step"
   ]
  },
  {
   "cell_type": "code",
   "execution_count": 9,
   "id": "b2a191c8-baa2-4bd0-94e4-7df307058d7a",
   "metadata": {},
   "outputs": [],
   "source": [
    "iw = fpl.ImageWidget(data = [my_data, pmd_with_denoiser, resid_arr],\n",
    "                    figure_shape = (1, 3))\n",
    "iw.cmap = \"gray\"\n",
    "iw.show()"
   ]
  }
 ],
 "metadata": {
  "kernelspec": {
   "display_name": "Python 3 (ipykernel)",
   "language": "python",
   "name": "python3"
  },
  "language_info": {
   "codemirror_mode": {
    "name": "ipython",
    "version": 3
   },
   "file_extension": ".py",
   "mimetype": "text/x-python",
   "name": "python",
   "nbconvert_exporter": "python",
   "pygments_lexer": "ipython3",
   "version": "3.11.9"
  }
 },
 "nbformat": 4,
 "nbformat_minor": 5
}
