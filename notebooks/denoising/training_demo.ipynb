{
 "cells": [
  {
   "cell_type": "markdown",
   "id": "9a262c85-3e10-4c8e-9c7a-8001805e3ba9",
   "metadata": {},
   "source": [
    "# This notebook shows the current pipeline for training a network for blind spot compression"
   ]
  },
  {
   "cell_type": "code",
   "execution_count": 7,
   "id": "c227cba9-fe23-47f8-b688-95fb4b7cc07b",
   "metadata": {},
   "outputs": [],
   "source": [
    "import os\n",
    "\n",
    "import fastplotlib as fpl\n",
    "import sys\n",
    "import masknmf\n",
    "import tifffile\n",
    "import torch\n",
    "import numpy as np\n",
    "\n",
    "import matplotlib.pyplot as plt\n",
    "import time\n",
    "from typing import *\n",
    "import pathlib\n",
    "from pathlib import Path\n",
    "%load_ext line_profiler\n",
    "%matplotlib inline\n",
    "%load_ext autoreload"
   ]
  },
  {
   "cell_type": "markdown",
   "id": "e1603095-9958-4a20-9a84-c19e86ca06df",
   "metadata": {},
   "source": [
    "# First step: take 1 dataset, run PMD on it without any temporal denoiser. The temporal basis from this result (pmd_obj.v) will serve as the training data for the network. If you plan to acquire multiple datasets with the same imaging parameters, you should be able to run this training loop on one dataset and use the neural network denoiser + PMD on all subsequent datasets. "
   ]
  },
  {
   "cell_type": "code",
   "execution_count": 2,
   "id": "c9dc7a5d-0713-4453-b7ab-bb3b0cf47c11",
   "metadata": {},
   "outputs": [],
   "source": [
    "data = tifffile.imread(\"/path/to/dataset.tiff\")"
   ]
  },
  {
   "cell_type": "code",
   "execution_count": 8,
   "id": "e501d7bd-e4e7-4f61-9f75-7413fa023176",
   "metadata": {},
   "outputs": [],
   "source": [
    "pmd_obj = masknmf.compression.pmd_decomposition(my_data,\n",
    "                                                [32, 32],\n",
    "                                                my_data.shape[0],\n",
    "                                                max_components = 20,\n",
    "                                                max_consecutive_failures = 1,\n",
    "                                                temporal_avg_factor=1,\n",
    "                                                spatial_avg_factor=1,\n",
    "                                                background_rank = 0,\n",
    "                                                device = \"cuda\",\n",
    "                                                pixel_weighting=None,\n",
    "                                                frame_batch_size = 1024)"
   ]
  },
  {
   "cell_type": "markdown",
   "id": "bd2ded97-f979-47f1-9fb2-ecefe24e5191",
   "metadata": {},
   "source": [
    "# Train a denoiser on the temporal basis (the v components)"
   ]
  },
  {
   "cell_type": "code",
   "execution_count": 9,
   "id": "1b3ad1a3-385e-4729-8ef8-23931c830e45",
   "metadata": {},
   "outputs": [],
   "source": [
    "trained_model, _ = masknmf.compression.denoising.train_total_variance_denoiser(pmd_obj.v.cpu(),\n",
    "                                                           max_epochs = 5,\n",
    "                                                           batch_size = 128,\n",
    "                                                            learning_rate=1e-4)\n",
    "np.savez(\"neural_net.npz\", model=trained_model)"
   ]
  },
  {
   "cell_type": "markdown",
   "id": "b42c0beb-63dc-40aa-9e2e-6be5732dac18",
   "metadata": {},
   "source": [
    "# To see what the blind spot network does, run it on the training data and plot the results:"
   ]
  },
  {
   "cell_type": "code",
   "execution_count": 4,
   "id": "a973ab47-95b7-43b9-b606-7827a1054843",
   "metadata": {},
   "outputs": [],
   "source": [
    "trained_model = np.load(\"neural_net.npz\", allow_pickle=True)['model'].item()"
   ]
  },
  {
   "cell_type": "code",
   "execution_count": 6,
   "id": "c1ca89cb-081f-416b-a774-04a6c5a3f30c",
   "metadata": {},
   "outputs": [],
   "source": [
    "# This is a way of saying \"do not mix the held out observed data with the neural net predictions. Just use the network\n",
    "noise_variance_quantile = 1\n",
    "\n",
    "#This is a prefix for we use for each figure, so it is saved out as trace_1.png, trace_2.png\n",
    "out_name = \"trace\"\n",
    "# out_folder = \"/your_output/folder\"\n",
    "out_folder = \"testing_plots\"\n",
    "traces_to_check = 3\n",
    "for k in range(traces_to_check):\n",
    "    trace_to_denoise = pmd_obj.v.cpu()[[k], :]\n",
    "    denoised_traces, signal_mean, noise_variance, signal_weight, observation_weight, total_var = masknmf.compression.denoising.denoise_batched(trained_model, \n",
    "                                                                                                                                               trace_to_denoise,\n",
    "                                                                                                                                               noise_variance_quantile=noise_variance_quantile,\n",
    "                                                                                                                                              input_size = pmd_obj.v.shape[1])\n",
    "    # Ignore the first few/last few frames here\n",
    "    t1, t2 = 10, -10     \n",
    "    masknmf.visualization.pmd_temporal_denoiser_trace_plot(trace_to_denoise.squeeze()[t1:t2],\n",
    "                             signal_mean.squeeze()[t1:t2],\n",
    "                             denoised_traces.squeeze()[t1:t2],\n",
    "                             signal_weight.squeeze()[t1:t2],\n",
    "                             observation_weight.squeeze()[t1:t2],\n",
    "                             total_var.squeeze()[t1:t2],\n",
    "                             noise_variance,\n",
    "                             out_name=f\"{out_name}_{k}.png\",\n",
    "                             out_folder=out_folder)"
   ]
  }
 ],
 "metadata": {
  "kernelspec": {
   "display_name": "Python 3 (ipykernel)",
   "language": "python",
   "name": "python3"
  },
  "language_info": {
   "codemirror_mode": {
    "name": "ipython",
    "version": 3
   },
   "file_extension": ".py",
   "mimetype": "text/x-python",
   "name": "python",
   "nbconvert_exporter": "python",
   "pygments_lexer": "ipython3",
   "version": "3.11.9"
  }
 },
 "nbformat": 4,
 "nbformat_minor": 5
}
