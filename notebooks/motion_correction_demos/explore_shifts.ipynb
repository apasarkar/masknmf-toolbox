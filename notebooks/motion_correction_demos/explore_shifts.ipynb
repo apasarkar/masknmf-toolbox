{
 "cells": [
  {
   "cell_type": "code",
   "execution_count": null,
   "id": "e7147004-92e5-4747-b43f-5f9a666f6136",
   "metadata": {},
   "outputs": [],
   "source": [
    "import fastplotlib as fpl\n",
    "import os\n",
    "import sys\n",
    "import masknmf\n",
    "import tifffile\n",
    "import numpy as np\n",
    "%load_ext autoreload"
   ]
  },
  {
   "cell_type": "raw",
   "id": "638238eb-7130-45be-9279-01b3feabf48e",
   "metadata": {},
   "source": [
    "data = tifffile.imread(\"/home/kushal/caiman_data/example_movies/Sue_2x_3000_40_-46.tif\")"
   ]
  },
  {
   "cell_type": "code",
   "execution_count": null,
   "id": "f5cdd615-735f-4b10-bbda-9535987f4de5",
   "metadata": {},
   "outputs": [],
   "source": [
    "data = tifffile.imread(\"/home/kushal/amol_data/cortexlab/Subjects/SP067/2024-07-18/001/raw_imaging_data_00/2024-07-18_1_SP058_2P_00000_00001.tif\")[:, 4110:]"
   ]
  },
  {
   "cell_type": "code",
   "execution_count": null,
   "id": "5857ad9c-2125-42ac-a461-6fbdaad31b88",
   "metadata": {},
   "outputs": [],
   "source": [
    "data.shape"
   ]
  },
  {
   "cell_type": "raw",
   "id": "1d02db0c-7bee-47d0-b27f-9c33d6b32832",
   "metadata": {},
   "source": [
    "iw_raw = fpl.ImageWidget(data, cmap=\"gnuplot2\")\n",
    "iw_raw.show()"
   ]
  },
  {
   "cell_type": "markdown",
   "id": "cedd2cbb-2099-4d24-9daf-630a66888729",
   "metadata": {},
   "source": [
    "# If you don't have a good template estimate, run the generic template estimation procedure. End result is a PiecewiseRigidRegistrationStrategy object, used to register all frames to a template"
   ]
  },
  {
   "cell_type": "code",
   "execution_count": null,
   "id": "88d0c1ec-cc5c-40f6-bb86-79f4de362e91",
   "metadata": {},
   "outputs": [],
   "source": [
    "strategy = masknmf.PiecewiseRigidMotionCorrector(\n",
    "    num_blocks=[10, 10],\n",
    "    overlaps=[5, 5],\n",
    "    max_rigid_shifts=[15, 15],\n",
    "    max_deviation_rigid=[2, 2],\n",
    "    batch_size=100\n",
    ")"
   ]
  },
  {
   "cell_type": "raw",
   "id": "6e6f69d8-b2cd-41b8-b479-7d92ebbe4906",
   "metadata": {},
   "source": [
    "strategy = masknmf.RigidMotionCorrector(\n",
    "    max_shifts=[24, 24],\n",
    "    batch_size=500\n",
    ")"
   ]
  },
  {
   "cell_type": "code",
   "execution_count": null,
   "id": "61e7e9a7-d25f-486d-969a-1a6419457d3c",
   "metadata": {},
   "outputs": [],
   "source": [
    "strategy.compute_template(data)"
   ]
  },
  {
   "cell_type": "code",
   "execution_count": null,
   "id": "81aa85af-8aa1-4df4-9fa9-f5a74968057f",
   "metadata": {},
   "outputs": [],
   "source": [
    "import torch"
   ]
  },
  {
   "cell_type": "code",
   "execution_count": null,
   "id": "b3d09406-3baf-442e-98a0-3dfb794e5496",
   "metadata": {},
   "outputs": [],
   "source": [
    "torch.cuda.empty_cache()"
   ]
  },
  {
   "cell_type": "code",
   "execution_count": null,
   "id": "a3fca917-3809-490a-bc3a-7a24e9bed25c",
   "metadata": {},
   "outputs": [],
   "source": [
    "iw_template = fpl.ImageWidget(strategy.template.cpu().numpy())\n",
    "iw_template.show()"
   ]
  },
  {
   "cell_type": "markdown",
   "id": "b1577cd1-2128-4e20-a9e0-3378bb289b14",
   "metadata": {},
   "source": [
    "# Define a RegistrationArray that lazily loads motion corrected frames of the raw data"
   ]
  },
  {
   "cell_type": "code",
   "execution_count": null,
   "id": "1dc3096f-32a6-4bec-b77f-b753647fc31b",
   "metadata": {},
   "outputs": [],
   "source": [
    "moco_results = masknmf.RegistrationArray(data, strategy)"
   ]
  },
  {
   "cell_type": "code",
   "execution_count": null,
   "id": "5097f235-7927-49f7-b65b-9fce53f640cc",
   "metadata": {},
   "outputs": [],
   "source": [
    "from ipywidgets import VBox"
   ]
  },
  {
   "cell_type": "code",
   "execution_count": null,
   "id": "9f0644ff-c5df-46cd-9960-4502501a80ed",
   "metadata": {},
   "outputs": [],
   "source": [
    "shifts = moco_results.shifts[:]\n",
    "\n",
    "shifts_stack = np.dstack([\n",
    "    shifts[..., 0].reshape(shifts.shape[0], np.prod(shifts.shape[1:-1])),\n",
    "    shifts[..., 1].reshape(shifts.shape[0], np.prod(shifts.shape[1:-1])),\n",
    "]).transpose(1, 0, 2)"
   ]
  },
  {
   "cell_type": "code",
   "execution_count": null,
   "id": "416a4fa2-ff01-4922-90c4-bd3796ad0f12",
   "metadata": {},
   "outputs": [],
   "source": [
    "iw = fpl.ImageWidget(\n",
    "    [data, moco_results],\n",
    "    cmap=\"viridis\",\n",
    "    window_funcs={\"t\": (np.mean, 11)},\n",
    "    figure_kwargs={\"size\": (1000, 500)},\n",
    ")\n",
    "\n",
    "fig = fpl.Figure()\n",
    "\n",
    "shifts_lg = fig[0, 0].add_line(shifts_stack.max(axis=-1).max(axis=0), thickness=1.1)\n",
    "\n",
    "sel = shifts_lg.add_linear_selector()\n",
    "\n",
    "@sel.add_event_handler(\"selection\")\n",
    "def update(ev: dict | fpl.GraphicFeatureEvent):\n",
    "    if isinstance(ev, fpl.GraphicFeatureEvent):\n",
    "        index = ev.get_selected_index()\n",
    "        iw.current_index = {\"t\": index}3916MiB\n",
    "    else:\n",
    "        index = ev[\"t\"]\n",
    "        sel.selection = index\n",
    "\n",
    "iw.add_event_handler(update, \"current_index\")\n",
    "\n",
    "VBox([iw.show(), fig.show()])"
   ]
  },
  {
   "cell_type": "code",
   "execution_count": null,
   "id": "502deb47-7803-43fd-84db-f43871f116d4",
   "metadata": {},
   "outputs": [],
   "source": [
    "shifts = moco_results.shifts[:]\n",
    "\n",
    "shifts_stack = np.dstack([\n",
    "    shifts[..., 0].reshape(shifts.shape[0], np.prod(shifts.shape[1:-1])),\n",
    "    shifts[..., 1].reshape(shifts.shape[0], np.prod(shifts.shape[1:-1])),\n",
    "]).transpose(1, 0, 2)\n",
    "\n",
    "fig[0, 0].add_line(shifts_stack.max(axis=-1).max(axis=0), colors=\"cyan\", thickness=1.1)"
   ]
  },
  {
   "cell_type": "code",
   "execution_count": null,
   "id": "722a5cf6-3249-48d6-ab6d-468308dd94c7",
   "metadata": {},
   "outputs": [],
   "source": [
    "moco_results.strategy._max_deviation_rigid = [1, 1]"
   ]
  },
  {
   "cell_type": "code",
   "execution_count": null,
   "id": "d28663a6-ad71-4082-8984-2cccc7c866d1",
   "metadata": {},
   "outputs": [],
   "source": [
    "moco_results.strategy._max_rigid_shifts = [0, 0]"
   ]
  },
  {
   "cell_type": "code",
   "execution_count": null,
   "id": "f228b5e1-4d5b-4f84-bd56-a73bab9af848",
   "metadata": {},
   "outputs": [],
   "source": [
    "shifts_stack.max(axis=0).shape"
   ]
  },
  {
   "cell_type": "code",
   "execution_count": null,
   "id": "81690fe7-0103-4572-bc2c-b6b8261cf6f7",
   "metadata": {},
   "outputs": [],
   "source": [
    "shifts = moco_results.shifts[:]\n",
    "\n",
    "shifts_stack = np.dstack([\n",
    "    shifts[..., 0].reshape(shifts.shape[0], np.prod(shifts.shape[1:-1])),\n",
    "    shifts[..., 1].reshape(shifts.shape[0], np.prod(shifts.shape[1:-1])),\n",
    "]).transpose(1, 0, 2)"
   ]
  },
  {
   "cell_type": "code",
   "execution_count": null,
   "id": "58ec3463-0fdf-4e2c-b6e7-f204c75467e2",
   "metadata": {},
   "outputs": [],
   "source": [
    "shifts_stack.shape"
   ]
  },
  {
   "cell_type": "code",
   "execution_count": null,
   "id": "82ebc8db-888d-4da0-99e0-f831e1e6f863",
   "metadata": {},
   "outputs": [],
   "source": [
    "def pretty_size(size):\n",
    "    \"\"\"Pretty prints a torch.Size object\"\"\"\n",
    "    assert isinstance(size, torch.Size)\n",
    "    return \" x \".join(map(str, size))\n",
    "def dump_tensors(gpu_only=True):\n",
    "    \"\"\"Prints a list of the Tensors being tracked by the garbage collector.\"\"\"\n",
    "    import gc\n",
    "    total_size = 0\n",
    "    for obj in gc.get_objects():\n",
    "        try:\n",
    "            if torch.is_tensor(obj):\n",
    "                if not gpu_only or obj.is_cuda:\n",
    "                    print(\n",
    "                        \"%s:%s%s %s\"\n",
    "                        % (\n",
    "                            type(obj).__name__,\n",
    "                            \" GPU\" if obj.is_cuda else \"\",\n",
    "                            \" pinned\" if obj.is_pinned else \"\",\n",
    "                            pretty_size(obj.size()),\n",
    "                        )\n",
    "                    )\n",
    "                    total_size += obj.numel()\n",
    "            elif hasattr(obj, \"data\") and torch.is_tensor(obj.data):\n",
    "                if not gpu_only or obj.is_cuda:\n",
    "                    print(\n",
    "                        \"%s → %s:%s%s%s%s %s\"\n",
    "                        % (\n",
    "                            type(obj).__name__,\n",
    "                            type(obj.data).__name__,\n",
    "                            \" GPU\" if obj.is_cuda else \"\",\n",
    "                            \" pinned\" if obj.data.is_pinned else \"\",\n",
    "                            \" grad\" if obj.requires_grad else \"\",\n",
    "                            \" volatile\" if obj.volatile else \"\",\n",
    "                            pretty_size(obj.data.size()),\n",
    "                        )\n",
    "                    )\n",
    "                    total_size += obj.data.numel()\n",
    "        except Exception as e:\n",
    "            pass\n",
    "    print(\"Total size:\", total_size)"
   ]
  },
  {
   "cell_type": "code",
   "execution_count": null,
   "id": "719c356c-a66b-4719-b925-b6355327ca06",
   "metadata": {},
   "outputs": [],
   "source": [
    "dump_tensors()"
   ]
  },
  {
   "cell_type": "markdown",
   "id": "c0f76e9e-0548-4bd9-87da-e1f03009aa24",
   "metadata": {},
   "source": [
    "# Visualize with fastplotlib imagewidget"
   ]
  },
  {
   "cell_type": "code",
   "execution_count": null,
   "id": "977fc876-64c4-4b01-99c5-7728fafc9033",
   "metadata": {},
   "outputs": [],
   "source": [
    "iw = fpl.ImageWidget(\n",
    "    data=[data, moco_results, pwrigid_strategy.template.cpu().numpy()],\n",
    "    names = ['raw data', 'motion corrected', 'template'],\n",
    "    figure_shape=(1, 3),\n",
    "    cmap=\"viridis\",\n",
    "    window_funcs={\"t\": (np.mean, 11)},\n",
    "    figure_kwargs={\"size\": (1300, 800)},\n",
    ")\n",
    "\n",
    "x, y = moco_results.block_centers.transpose(-1, 0, 1)\n",
    "u, v = moco_results.shifts[0].transpose(-1, 0, 1)\n",
    "\n",
    "# positions of each vector as [n_points, 2] array\n",
    "positions = np.column_stack([x.ravel(), y.ravel()])\n",
    "\n",
    "# directions of each vector as a [n_points, 2] array\n",
    "# scale down by 5 otherwise they're too big\n",
    "directions = np.column_stack([u.ravel(), v.ravel()]) / 5\n",
    "\n",
    "vector_field = iw.figure[0, 0].add_vector_field(\n",
    "    positions=positions,\n",
    "    directions=directions,\n",
    "    alpha=0.7,\n",
    "    alpha_mode=\"add\",\n",
    "    color=\"w\",\n",
    ")\n",
    "\n",
    "@iw.add_event_handler\n",
    "def update_vector_field(index):\n",
    "    t = index[\"t\"]\n",
    "\n",
    "    # u, v = moco_results.shifts[t].transpose(-1, 0, 1)\n",
    "    # directions = np.column_stack([u.ravel(), v.ravel()])\n",
    "    \n",
    "    # vector_field.directions = np.random.rand(*vector_field.directions.value.shape)\n",
    "\n",
    "\n",
    "iw.show()"
   ]
  },
  {
   "cell_type": "code",
   "execution_count": null,
   "id": "483abddb-bb09-4636-8e3c-deb29d8ddab0",
   "metadata": {},
   "outputs": [],
   "source": [
    "%%timeit\n",
    "i = np.random.randint(0, moco_results.shape[0] - 11)\n",
    "moco_results[i]"
   ]
  },
  {
   "cell_type": "code",
   "execution_count": null,
   "id": "60027774-3bc4-4a94-92d5-19af2921899d",
   "metadata": {},
   "outputs": [],
   "source": [
    "%%timeit\n",
    "i = np.random.randint(0, moco_results.shape[0] - 11)\n",
    "moco_results[i:i+11]"
   ]
  },
  {
   "cell_type": "code",
   "execution_count": null,
   "id": "cb56c393-c39c-49a3-98bb-bfdbdc74a33f",
   "metadata": {},
   "outputs": [],
   "source": [
    "%load_ext viztracer"
   ]
  },
  {
   "cell_type": "code",
   "execution_count": null,
   "id": "dc8f35d3-a4b8-4d6c-adba-148482e2ec55",
   "metadata": {},
   "outputs": [],
   "source": [
    "%%viztracer\n",
    "i = np.random.randint(0, moco_results.shape[0] - 11)\n",
    "moco_results[i:i+11]"
   ]
  },
  {
   "cell_type": "code",
   "execution_count": null,
   "id": "9f7c98b3-969c-4482-a45c-bee8a419fe9d",
   "metadata": {},
   "outputs": [],
   "source": [
    "1_000 / 50"
   ]
  },
  {
   "cell_type": "code",
   "execution_count": null,
   "id": "7badce94-18e0-498b-85fb-55d9e47c4481",
   "metadata": {},
   "outputs": [],
   "source": [
    "iw.window_funcs = None"
   ]
  },
  {
   "cell_type": "code",
   "execution_count": null,
   "id": "89ded6d6-dc1a-42e7-8f22-e182e4fb28c2",
   "metadata": {},
   "outputs": [],
   "source": [
    "iw.close()"
   ]
  },
  {
   "cell_type": "code",
   "execution_count": null,
   "id": "e2239c0a-e4b3-4608-9de4-48af68ac04e6",
   "metadata": {},
   "outputs": [],
   "source": [
    "type(moco_results.block_centers)"
   ]
  }
 ],
 "metadata": {
  "kernelspec": {
   "display_name": "Python 3 (ipykernel)",
   "language": "python",
   "name": "python3"
  },
  "language_info": {
   "codemirror_mode": {
    "name": "ipython",
    "version": 3
   },
   "file_extension": ".py",
   "mimetype": "text/x-python",
   "name": "python",
   "nbconvert_exporter": "python",
   "pygments_lexer": "ipython3",
   "version": "3.11.2"
  }
 },
 "nbformat": 4,
 "nbformat_minor": 5
}
