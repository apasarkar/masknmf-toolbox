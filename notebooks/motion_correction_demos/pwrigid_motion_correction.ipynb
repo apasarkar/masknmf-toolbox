{
 "cells": [
  {
   "cell_type": "code",
   "execution_count": null,
   "id": "e7147004-92e5-4747-b43f-5f9a666f6136",
   "metadata": {},
   "outputs": [],
   "source": [
    "import fastplotlib as fpl\n",
    "import os\n",
    "import sys\n",
    "import masknmf\n",
    "import tifffile\n",
    "import numpy as np\n",
    "%load_ext autoreload"
   ]
  },
  {
   "cell_type": "code",
   "execution_count": null,
   "id": "7c42befc-8a6c-45e3-86e9-ff8ea37e4ca3",
   "metadata": {},
   "outputs": [],
   "source": [
    "data = tifffile.imread(\"/home/kushal/caiman_data/example_movies/Sue_2x_3000_40_-46.tif\")"
   ]
  },
  {
   "cell_type": "markdown",
   "id": "cedd2cbb-2099-4d24-9daf-630a66888729",
   "metadata": {},
   "source": [
    "# If you don't have a good template estimate, run the generic template estimation procedure. End result is a PiecewiseRigidRegistrationStrategy object, used to register all frames to a template"
   ]
  },
  {
   "cell_type": "code",
   "execution_count": null,
   "id": "4863c077-e5c8-48a9-882e-a50e88fd69b8",
   "metadata": {},
   "outputs": [],
   "source": [
    "pwrigid_strategy = masknmf.PiecewiseRigidMotionCorrector(\n",
    "    num_blocks=[10, 10],\n",
    "    overlaps=[5, 5],\n",
    "    max_rigid_shifts=[15, 15],\n",
    "    max_deviation_rigid=[2, 2],\n",
    "    batch_size=500\n",
    ")\n",
    "\n",
    "pwrigid_strategy.compute_template(data)"
   ]
  },
  {
   "cell_type": "raw",
   "id": "21fda99f-af45-4b72-baf0-15f2d1edce47",
   "metadata": {},
   "source": [
    "fpl.ImageWidget(pwrigid_strategy.template.cpu().numpy()).show()"
   ]
  },
  {
   "cell_type": "markdown",
   "id": "b1577cd1-2128-4e20-a9e0-3378bb289b14",
   "metadata": {},
   "source": [
    "# Define a RegistrationArray that lazily loads motion corrected frames of the raw data"
   ]
  },
  {
   "cell_type": "code",
   "execution_count": null,
   "id": "1dc3096f-32a6-4bec-b77f-b753647fc31b",
   "metadata": {},
   "outputs": [],
   "source": [
    "moco_results = masknmf.RegistrationArray(data, pwrigid_strategy)"
   ]
  },
  {
   "cell_type": "markdown",
   "id": "c0f76e9e-0548-4bd9-87da-e1f03009aa24",
   "metadata": {},
   "source": [
    "# Visualize with fastplotlib imagewidget"
   ]
  },
  {
   "cell_type": "code",
   "execution_count": null,
   "id": "977fc876-64c4-4b01-99c5-7728fafc9033",
   "metadata": {},
   "outputs": [],
   "source": [
    "iw = fpl.ImageWidget(\n",
    "    data=[data, moco_results, pwrigid_strategy.template.cpu().numpy()],\n",
    "    names = ['raw data', 'motion corrected', 'template'],\n",
    "    figure_shape=(1, 3),\n",
    "    cmap=\"viridis\",\n",
    "    window_funcs={\"t\": (np.mean, 11)},\n",
    ")\n",
    "\n",
    "x, y = moco_results.block_centers.transpose(-1, 0, 1)\n",
    "u, v = moco_results.shifts[0].transpose(-1, 0, 1)\n",
    "\n",
    "# positions of each vector as [n_points, 2] array\n",
    "positions = np.column_stack([x.ravel(), y.ravel()])\n",
    "\n",
    "# directions of each vector as a [n_points, 2] array\n",
    "# scale down by 5 otherwise they're too big\n",
    "directions = np.column_stack([u.ravel(), v.ravel()]) / 5\n",
    "\n",
    "vector_field = iw.figure[0, 0].add_vector_field(\n",
    "    positions=positions,\n",
    "    directions=directions,\n",
    "    alpha=0.7,\n",
    "    alpha_mode=\"add\",\n",
    "    color=\"w\",\n",
    ")\n",
    "\n",
    "@iw.add_event_handler\n",
    "def update_vector_field(index):\n",
    "    t = index[\"t\"]\n",
    "\n",
    "    u, v = moco_results.shifts[t].transpose(-1, 0, 1)\n",
    "    directions = np.column_stack([u.ravel(), v.ravel()])\n",
    "    \n",
    "    vector_field.directions = directions / 5\n",
    "\n",
    "\n",
    "iw.show()"
   ]
  },
  {
   "cell_type": "code",
   "execution_count": null,
   "id": "bab4e1d9-90ad-4b89-8153-67c58b51caf8",
   "metadata": {},
   "outputs": [],
   "source": []
  }
 ],
 "metadata": {
  "kernelspec": {
   "display_name": "Python 3 (ipykernel)",
   "language": "python",
   "name": "python3"
  },
  "language_info": {
   "codemirror_mode": {
    "name": "ipython",
    "version": 3
   },
   "file_extension": ".py",
   "mimetype": "text/x-python",
   "name": "python",
   "nbconvert_exporter": "python",
   "pygments_lexer": "ipython3",
   "version": "3.11.2"
  }
 },
 "nbformat": 4,
 "nbformat_minor": 5
}
