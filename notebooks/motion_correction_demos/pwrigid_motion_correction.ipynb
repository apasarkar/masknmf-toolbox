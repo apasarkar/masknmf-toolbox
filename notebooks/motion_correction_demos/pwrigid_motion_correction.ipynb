{
 "cells": [
  {
   "cell_type": "code",
   "execution_count": 1,
   "id": "e7147004-92e5-4747-b43f-5f9a666f6136",
   "metadata": {},
   "outputs": [
    {
     "name": "stderr",
     "output_type": "stream",
     "text": [
      "No config found!\n",
      "EGL says it can present to the window but not natively\n",
      "Max vertex attribute stride unknown. Assuming it is 2048\n",
      "Max vertex attribute stride unknown. Assuming it is 2048\n",
      "Max vertex attribute stride unknown. Assuming it is 2048\n"
     ]
    },
    {
     "data": {
      "application/vnd.jupyter.widget-view+json": {
       "model_id": "21dd12bb71f5405f8b5780fd82e7d104",
       "version_major": 2,
       "version_minor": 0
      },
      "text/plain": [
       "Image(value=b'\\x89PNG\\r\\n\\x1a\\n\\x00\\x00\\x00\\rIHDR\\x00\\x00\\x01,\\x00\\x00\\x007\\x08\\x06\\x00\\x00\\x00\\xb6\\x1bw\\x99\\x…"
      ]
     },
     "metadata": {},
     "output_type": "display_data"
    },
    {
     "data": {
      "text/html": [
       "<b>Available devices:</b><table><tr><th>Valid</th><th>Device</th><th>Type</th><th>Backend</th><th>Driver</th></tr><tr title=\"This adapter can be used with fastplotlib\"><td>✅ (default) </td><td>NVIDIA TITAN RTX</td><td>DiscreteGPU</td><td>Vulkan</td><td>555.42.02</td></tr><tr title=\"CPU rendering support is limited and mainly for testing purposes\"><td>❗ limited</td><td>llvmpipe (LLVM 12.0.0, 256 bits)</td><td>CPU</td><td>Vulkan</td><td>Mesa 21.2.6 (LLVM 12.0.0)</td></tr><tr title=\"This adapter cannot be used with fastplotlib\"><td>❌</td><td>NVIDIA TITAN RTX/PCIe/SSE2</td><td>Unknown</td><td>OpenGL</td><td>3.3.0 NVIDIA 555.42.02</td></tr></table>"
      ],
      "text/plain": [
       "<IPython.core.display.HTML object>"
      ]
     },
     "metadata": {},
     "output_type": "display_data"
    },
    {
     "name": "stderr",
     "output_type": "stream",
     "text": [
      "Max vertex attribute stride unknown. Assuming it is 2048\n",
      "Max vertex attribute stride unknown. Assuming it is 2048\n"
     ]
    }
   ],
   "source": [
    "import fastplotlib as fpl\n",
    "import os\n",
    "import sys\n",
    "import masknmf\n",
    "import tifffile\n",
    "%load_ext autoreload"
   ]
  },
  {
   "cell_type": "code",
   "execution_count": 2,
   "id": "7c42befc-8a6c-45e3-86e9-ff8ea37e4ca3",
   "metadata": {},
   "outputs": [],
   "source": [
    "data = tifffile.imread(\"../../demo_data/demoMovie.tif\")"
   ]
  },
  {
   "cell_type": "markdown",
   "id": "cedd2cbb-2099-4d24-9daf-630a66888729",
   "metadata": {},
   "source": [
    "# If you don't have a good template estimate, run the generic template estimation procedure. End result is a PiecewiseRigidRegistrationStrategy object, used to register all frames to a template"
   ]
  },
  {
   "cell_type": "code",
   "execution_count": 5,
   "id": "4863c077-e5c8-48a9-882e-a50e88fd69b8",
   "metadata": {},
   "outputs": [],
   "source": [
    "pwrigid_strategy = masknmf.PiecewiseRigidMotionCorrector(num_blocks = [10, 10],\n",
    "                                                          overlaps = [5, 5],\n",
    "                                                          max_rigid_shifts = [15, 15],\n",
    "                                                          max_deviation_rigid = [2, 2],\n",
    "                                                        batch_size = 500)\n",
    "\n",
    "pwrigid_strategy.compute_template(data,\n",
    "                                  device= \"cuda\")"
   ]
  },
  {
   "cell_type": "markdown",
   "id": "b1577cd1-2128-4e20-a9e0-3378bb289b14",
   "metadata": {},
   "source": [
    "# Define a RegistrationArray that lazily loads motion corrected frames of the raw data"
   ]
  },
  {
   "cell_type": "code",
   "execution_count": 6,
   "id": "1dc3096f-32a6-4bec-b77f-b753647fc31b",
   "metadata": {},
   "outputs": [],
   "source": [
    "moco_results = masknmf.RegistrationArray(data, pwrigid_strategy, device = \"cuda\")"
   ]
  },
  {
   "cell_type": "markdown",
   "id": "c0f76e9e-0548-4bd9-87da-e1f03009aa24",
   "metadata": {},
   "source": [
    "# Visualize with fastplotlib imagewidget"
   ]
  },
  {
   "cell_type": "code",
   "execution_count": 8,
   "id": "977fc876-64c4-4b01-99c5-7728fafc9033",
   "metadata": {},
   "outputs": [],
   "source": [
    "iw = fpl.ImageWidget(data = [data, moco_results, pwrigid_strategy.template.cpu().numpy()],\n",
    "                    names = ['raw data', 'motion corrected', 'template'],\n",
    "                    figure_shape = (1, 3))\n",
    "iw.cmap = \"gray\"\n",
    "iw.show()"
   ]
  },
  {
   "cell_type": "code",
   "execution_count": null,
   "id": "22a22c65-4462-4ae4-b860-6ce078d3f7f5",
   "metadata": {},
   "outputs": [],
   "source": []
  }
 ],
 "metadata": {
  "kernelspec": {
   "display_name": "Python 3 (ipykernel)",
   "language": "python",
   "name": "python3"
  },
  "language_info": {
   "codemirror_mode": {
    "name": "ipython",
    "version": 3
   },
   "file_extension": ".py",
   "mimetype": "text/x-python",
   "name": "python",
   "nbconvert_exporter": "python",
   "pygments_lexer": "ipython3",
   "version": "3.11.9"
  }
 },
 "nbformat": 4,
 "nbformat_minor": 5
}
