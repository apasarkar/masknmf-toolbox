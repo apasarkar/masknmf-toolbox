{
 "cells": [
  {
   "cell_type": "code",
   "execution_count": 14,
   "id": "6ac5aad8-e404-4d5f-aca8-5719c9af83f2",
   "metadata": {},
   "outputs": [],
   "source": [
    "import fastplotlib as fpl\n",
    "import os\n",
    "import sys\n",
    "import masknmf\n",
    "import tifffile\n",
    "import matplotlib.pyplot as plt\n",
    "%load_ext autoreload\n",
    "%matplotlib inline"
   ]
  },
  {
   "cell_type": "code",
   "execution_count": 2,
   "id": "ec7e6a82-dc70-41ee-9519-16f3ea852ec7",
   "metadata": {},
   "outputs": [],
   "source": [
    "data = tifffile.imread(\"../../demo_data/demoMovie.tif\")"
   ]
  },
  {
   "cell_type": "markdown",
   "id": "593ddf94-42f4-421e-b4d2-920abe4f2ad4",
   "metadata": {},
   "source": [
    "# Define a rigid motion correction strategy. Optionally provide a template as a 2D torch.Tensor"
   ]
  },
  {
   "cell_type": "code",
   "execution_count": 4,
   "id": "7861ca7e-e69f-4f9a-90d3-0a21636b080c",
   "metadata": {},
   "outputs": [],
   "source": [
    "max_rigid_shifts = [3, 3]\n",
    "template = None\n",
    "rigid_strategy = masknmf.RigidMotionCorrector(max_rigid_shifts, template = template)"
   ]
  },
  {
   "cell_type": "markdown",
   "id": "34cebd6d-cc47-4d85-9cdb-85c8b8289c24",
   "metadata": {},
   "source": [
    "# Run the template estimator"
   ]
  },
  {
   "cell_type": "code",
   "execution_count": 12,
   "id": "41c6bfd8-ad3a-4a87-8b74-edbaecd4cc8f",
   "metadata": {},
   "outputs": [],
   "source": [
    "rigid_strategy.compute_template(data,\n",
    "                                device=\"cuda\")"
   ]
  },
  {
   "cell_type": "markdown",
   "id": "6af08f80-f7f7-437e-b779-af0d73da1758",
   "metadata": {},
   "source": [
    "# Define a motion correction array, which lazily loads motion corrected frames aligned via the registation_strategy"
   ]
  },
  {
   "cell_type": "code",
   "execution_count": 6,
   "id": "bf0edc77-cbf0-42b3-901e-1f33bd52fbeb",
   "metadata": {},
   "outputs": [],
   "source": [
    "moco_results = masknmf.RegistrationArray(data,\n",
    "                                         rigid_strategy,\n",
    "                                         device = \"cuda\")"
   ]
  },
  {
   "cell_type": "markdown",
   "id": "3acca82f-833b-4385-b8b5-1b23f53325b9",
   "metadata": {},
   "source": [
    "# How to access shifts (and corresponding motion corrected frames). "
   ]
  },
  {
   "cell_type": "code",
   "execution_count": 8,
   "id": "25c55086-5e57-4a40-a958-2ce56da46e3b",
   "metadata": {},
   "outputs": [],
   "source": [
    "moco_shifts = moco_results.shifts[0:500] #Shift data for first 500 frames"
   ]
  },
  {
   "cell_type": "code",
   "execution_count": 13,
   "id": "c9b76774-e6c8-400d-b009-ade528ed6b72",
   "metadata": {},
   "outputs": [],
   "source": [
    "fig, ax = plt.subplots(1, 2)\n",
    "ax[0].plot(moco_shifts[:, 0])\n",
    "ax[0].set_title(\"vertical shifts\")\n",
    "ax[1].plot(moco_shifts[:, 1])\n",
    "ax[1].set_title(\"horizontal shifts\")\n",
    "plt.show()"
   ]
  },
  {
   "cell_type": "markdown",
   "id": "a54d985a-26e3-4607-a386-005a0a9aaaac",
   "metadata": {},
   "source": [
    "# Visualize the raw vs. registered data via fastplotlib"
   ]
  },
  {
   "cell_type": "code",
   "execution_count": 11,
   "id": "e9d978d1-1a55-495b-96a8-d5a95e0b2fac",
   "metadata": {},
   "outputs": [],
   "source": [
    "iw = fpl.ImageWidget(data = [data, moco_results, rigid_strategy.template.cpu().numpy()],\n",
    "                    names = ['raw', 'motion corrected', 'template'],\n",
    "                    figure_shape = (1, 3))\n",
    "iw.cmap = \"gray\"\n",
    "iw.show()"
   ]
  }
 ],
 "metadata": {
  "kernelspec": {
   "display_name": "Python 3 (ipykernel)",
   "language": "python",
   "name": "python3"
  },
  "language_info": {
   "codemirror_mode": {
    "name": "ipython",
    "version": 3
   },
   "file_extension": ".py",
   "mimetype": "text/x-python",
   "name": "python",
   "nbconvert_exporter": "python",
   "pygments_lexer": "ipython3",
   "version": "3.11.9"
  }
 },
 "nbformat": 4,
 "nbformat_minor": 5
}
