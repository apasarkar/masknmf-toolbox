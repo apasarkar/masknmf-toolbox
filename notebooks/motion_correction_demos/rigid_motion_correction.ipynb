{
 "cells": [
  {
   "cell_type": "code",
   "execution_count": 3,
   "id": "6ac5aad8-e404-4d5f-aca8-5719c9af83f2",
   "metadata": {},
   "outputs": [
    {
     "name": "stdout",
     "output_type": "stream",
     "text": [
      "The autoreload extension is already loaded. To reload it, use:\n",
      "  %reload_ext autoreload\n"
     ]
    }
   ],
   "source": [
    "import fastplotlib as fpl\n",
    "import os\n",
    "import sys\n",
    "import masknmf\n",
    "import tifffile\n",
    "%load_ext autoreload"
   ]
  },
  {
   "cell_type": "code",
   "execution_count": 6,
   "id": "ec7e6a82-dc70-41ee-9519-16f3ea852ec7",
   "metadata": {},
   "outputs": [],
   "source": [
    "data = tifffile.imread(\"/path/to/data.tiff\")"
   ]
  },
  {
   "cell_type": "markdown",
   "id": "593ddf94-42f4-421e-b4d2-920abe4f2ad4",
   "metadata": {},
   "source": [
    "# Define a rigid motion correction strategy. Optionally provide a template as a 2D torch.Tensor"
   ]
  },
  {
   "cell_type": "code",
   "execution_count": 8,
   "id": "7861ca7e-e69f-4f9a-90d3-0a21636b080c",
   "metadata": {},
   "outputs": [],
   "source": [
    "max_rigid_shifts = [3, 3]\n",
    "template = None\n",
    "rigid_strategy = masknmf.RigidMotionCorrection(max_rigid_shifts, template = template)"
   ]
  },
  {
   "cell_type": "markdown",
   "id": "34cebd6d-cc47-4d85-9cdb-85c8b8289c24",
   "metadata": {},
   "source": [
    "# If template is not provided, run the general template update procedure below"
   ]
  },
  {
   "cell_type": "code",
   "execution_count": 11,
   "id": "41c6bfd8-ad3a-4a87-8b74-edbaecd4cc8f",
   "metadata": {},
   "outputs": [],
   "source": [
    "rigid_strategy = masknmf.compute_template(data,\n",
    "                                          rigid_strategy, \n",
    "                                          device = \"cpu\")"
   ]
  },
  {
   "cell_type": "markdown",
   "id": "6af08f80-f7f7-437e-b779-af0d73da1758",
   "metadata": {},
   "source": [
    "# Define a motion correction array, which lazily loads motion corrected frames aligned via the registation_strategy"
   ]
  },
  {
   "cell_type": "code",
   "execution_count": 12,
   "id": "bf0edc77-cbf0-42b3-901e-1f33bd52fbeb",
   "metadata": {},
   "outputs": [],
   "source": [
    "moco_results = masknmf.RegistrationArray(data,\n",
    "                                         rigid_strategy,\n",
    "                                         device = \"cpu\")"
   ]
  },
  {
   "cell_type": "markdown",
   "id": "a54d985a-26e3-4607-a386-005a0a9aaaac",
   "metadata": {},
   "source": [
    "# Visualize the raw vs. registered data via fastplotlib"
   ]
  },
  {
   "cell_type": "code",
   "execution_count": 14,
   "id": "e9d978d1-1a55-495b-96a8-d5a95e0b2fac",
   "metadata": {},
   "outputs": [],
   "source": [
    "iw = fpl.ImageWidget(data = [data, moco_results])\n",
    "iw.cmap = \"gray\"\n",
    "iw.show()"
   ]
  }
 ],
 "metadata": {
  "kernelspec": {
   "display_name": "Python 3 (ipykernel)",
   "language": "python",
   "name": "python3"
  },
  "language_info": {
   "codemirror_mode": {
    "name": "ipython",
    "version": 3
   },
   "file_extension": ".py",
   "mimetype": "text/x-python",
   "name": "python",
   "nbconvert_exporter": "python",
   "pygments_lexer": "ipython3",
   "version": "3.11.9"
  }
 },
 "nbformat": 4,
 "nbformat_minor": 5
}
