{
 "cells": [
  {
   "cell_type": "code",
   "execution_count": 20,
   "id": "d1fd0c91-9a14-46ac-b4cb-30ae58716b9f",
   "metadata": {},
   "outputs": [],
   "source": [
    "## Backend library imports\n",
    "import numpy as np\n",
    "import os\n",
    "import sys\n",
    "import time\n",
    "import torch\n",
    "import scipy\n",
    "from scipy.signal import butter, filtfilt\n",
    "from sklearn.decomposition import NMF\n",
    "\n",
    "## Plotting library imports\n",
    "import matplotlib.pyplot as plt\n",
    "import matplotlib.pyplot as plt\n",
    "import matplotlib.patches as patches\n",
    "import fastplotlib as fpl\n",
    "\n",
    "## Demixing imports\n",
    "import localnmf \n",
    "import masknmf\n",
    "from masknmf.visualization import make_demixing_video, plot_ith_roi, construct_index\n",
    "from matplotlib.gridspec import GridSpec\n",
    "\n",
    "import plotly.graph_objects as go\n",
    "import plotly.subplots as sp\n",
    "\n",
    "import os\n",
    "import re\n",
    "import matplotlib.pyplot as plt\n",
    "\n",
    "%matplotlib inline\n",
    "%load_ext autoreload\n",
    "%load_ext line_profiler"
   ]
  },
  {
   "cell_type": "markdown",
   "id": "edcfe154-e643-4cef-bfd6-1e8136ff6ccf",
   "metadata": {},
   "source": [
    "# Decide which device the demixing is run on, cuda or cpu"
   ]
  },
  {
   "cell_type": "code",
   "execution_count": 29,
   "id": "9b912a65-695e-470c-a5ea-028cadeeb354",
   "metadata": {},
   "outputs": [],
   "source": [
    "device='cuda'"
   ]
  },
  {
   "cell_type": "markdown",
   "id": "480a054a-122e-4145-8108-177a35b91ec2",
   "metadata": {},
   "source": [
    "# Load the high-pass filtered PMD data, convert it to a rlocalnmf Signal Demixer object"
   ]
  },
  {
   "cell_type": "code",
   "execution_count": 30,
   "id": "7fedf1aa-3b5c-4897-acb2-a4fca0891bc9",
   "metadata": {},
   "outputs": [],
   "source": [
    "filename = \"/path/to/high_pass_filtered/pmd_decomposition.npz\"\n",
    "full_pmd_movie = np.load(filename, allow_pickle=True)['pmd'].item()"
   ]
  },
  {
   "cell_type": "code",
   "execution_count": 31,
   "id": "61e58816-c9a8-4611-b88e-a2cabba727b2",
   "metadata": {},
   "outputs": [],
   "source": [
    "#Construct the SignalDemixer demixing object\n",
    "num_frames, fov_dim1, fov_dim2 = full_pmd_movie.shape\n",
    "highpass_pmd_demixer = localnmf.SignalDemixer(full_pmd_movie.u,\n",
    "                                                full_pmd_movie.r,\n",
    "                                                full_pmd_movie.s,\n",
    "                                                full_pmd_movie.v,\n",
    "                                                (fov_dim1, fov_dim2, num_frames), \n",
    "                                                data_order=full_pmd_movie.order,\n",
    "                                                device=device)"
   ]
  },
  {
   "cell_type": "markdown",
   "id": "eb8c08cf-0751-4113-bf29-885f9ff70cb2",
   "metadata": {},
   "source": [
    "# Run 1st pass demixing on this data"
   ]
  },
  {
   "cell_type": "markdown",
   "id": "5fdd93d1-8ff9-413e-8b55-d9bab1d14ada",
   "metadata": {},
   "source": [
    "# Identify remaining signals here"
   ]
  },
  {
   "cell_type": "code",
   "execution_count": 19,
   "id": "e70ee7ab-1d61-4633-84c1-0d1b79f53aba",
   "metadata": {},
   "outputs": [],
   "source": [
    "init_kwargs = {\n",
    "    #Worth modifying\n",
    "    'mad_correlation_threshold':0.6,\n",
    "    'min_superpixel_size':3,\n",
    "\n",
    "    #Mostly stable\n",
    "    'mad_threshold':2,\n",
    "    'residual_threshold': 0.3,\n",
    "    'patch_size':(40, 40),\n",
    "    'robust_corr_term':0.03,\n",
    "    'plot_en':True,\n",
    "    'text':False,\n",
    "}\n",
    "\n",
    "highpass_pmd_demixer.initialize_signals(**init_kwargs, is_custom = False)\n",
    "print(f\"Identified {highpass_pmd_demixer.results[0].shape[1]} neurons here\")"
   ]
  },
  {
   "cell_type": "markdown",
   "id": "34c0b8ee-3e5f-4573-bdf5-2bd34d25d877",
   "metadata": {},
   "source": [
    "# Lock the above results and move to demixing"
   ]
  },
  {
   "cell_type": "code",
   "execution_count": 18,
   "id": "df4c8877-6772-4569-a425-e776f853cae6",
   "metadata": {},
   "outputs": [],
   "source": [
    "highpass_pmd_demixer.lock_results_and_continue()"
   ]
  },
  {
   "cell_type": "markdown",
   "id": "d2218041-8e1c-4d40-a9a1-edda7e7289fc",
   "metadata": {},
   "source": [
    "# Demix the data"
   ]
  },
  {
   "cell_type": "code",
   "execution_count": 17,
   "id": "bea8a6d6-e962-4c0c-99af-a92427342a22",
   "metadata": {},
   "outputs": [],
   "source": [
    "num_iters = 13\n",
    "## Now run demixing...\n",
    "localnmf_params = {\n",
    "    'maxiter':num_iters,\n",
    "    'support_threshold':np.linspace(0.9, 0.6, num_iters).tolist(),\n",
    "    'deletion_threshold':0.2,\n",
    "    'ring_model_start_pt':30, #No ring model needed\n",
    "    'ring_radius':20,\n",
    "    'merge_threshold':0.8,\n",
    "    'merge_overlap_threshold':0.8,\n",
    "    'update_frequency':40,\n",
    "    'c_nonneg':False,\n",
    "    'denoise':False,\n",
    "    'plot_en': False\n",
    "}\n",
    "\n",
    "start_time = time.time()\n",
    "with torch.no_grad():\n",
    "    highpass_pmd_demixer.demix(**localnmf_params)\n",
    "print(f\"that took {time.time() - start_time}\")\n",
    "print(f\"after this step {highpass_pmd_demixer.results.a.shape[1]} signals identified\")\n",
    "\n"
   ]
  },
  {
   "cell_type": "markdown",
   "id": "8473a1ac-13ef-4b8f-be55-3862453a3d90",
   "metadata": {},
   "source": [
    "# Visualize a demixing video. Things to check: are there missing neural signals in the demixing video? This is fine -- you can run a second pass of demixing on the \"residual\" to identify those signals. "
   ]
  },
  {
   "cell_type": "code",
   "execution_count": 9,
   "id": "4a0e4536-ed04-41ab-9825-9a629dd4e394",
   "metadata": {},
   "outputs": [],
   "source": [
    "results = highpass_pmd_demixer.results\n",
    "\n",
    "iw = make_demixing_video(results,\n",
    "                    device,\n",
    "                    v_range=[-1, 1])\n",
    "\n",
    "iw.show()"
   ]
  },
  {
   "cell_type": "markdown",
   "id": "0f2b1e9d-dfd7-4ab0-8e1c-35b47300286b",
   "metadata": {},
   "source": [
    "# Lock these results in and continue"
   ]
  },
  {
   "cell_type": "code",
   "execution_count": 16,
   "id": "85e63c1a-4772-4dfe-a5b1-639b29c23af5",
   "metadata": {},
   "outputs": [],
   "source": [
    "highpass_pmd_demixer.lock_results_and_continue()"
   ]
  },
  {
   "cell_type": "markdown",
   "id": "55e66bd5-a04e-4476-bfad-2321f2944fdf",
   "metadata": {},
   "source": [
    "# [Optional]: Multipass -- if you think there are residual signals, you can run initialization again followed by demixing. This multi-pass approach combines the previous results with the new initializations and uses this \"superset\" of signals to seed the new round of demixing. Only run the below if you believe there are missing signals based on the above. "
   ]
  },
  {
   "cell_type": "code",
   "execution_count": 15,
   "id": "80f0122f-062b-496d-875a-e02583d46a06",
   "metadata": {},
   "outputs": [],
   "source": [
    "init_kwargs = {\n",
    "    #In the second pass, these params are smaller to pick up \"smaller\" signals\n",
    "    'mad_correlation_threshold':0.3,\n",
    "    'min_superpixel_size':3,\n",
    "\n",
    "    #Mostly stable\n",
    "    'mad_threshold':2,\n",
    "    'residual_threshold': 0.3,\n",
    "    'patch_size':(40, 40),\n",
    "    'robust_corr_term':0.03,\n",
    "    'plot_en':True,\n",
    "    'text':False,\n",
    "}\n",
    "\n",
    "highpass_pmd_demixer.initialize_signals(**init_kwargs, is_custom = False)\n",
    "print(f\"Identified {highpass_pmd_demixer.results[0].shape[1]} neural signals\")"
   ]
  },
  {
   "cell_type": "markdown",
   "id": "4dcff492-f859-471f-92af-944b6994a6e1",
   "metadata": {},
   "source": [
    "# [Optional]: Lock the above results and move to demixing"
   ]
  },
  {
   "cell_type": "code",
   "execution_count": 14,
   "id": "086bf153-018f-4497-a650-688bbb5d5be4",
   "metadata": {},
   "outputs": [],
   "source": [
    "highpass_pmd_demixer.lock_results_and_continue()"
   ]
  },
  {
   "cell_type": "markdown",
   "id": "8d216049-269f-42ab-a098-3addf9866a89",
   "metadata": {},
   "source": [
    "# [Optional]: Run demixing"
   ]
  },
  {
   "cell_type": "code",
   "execution_count": 1,
   "id": "6c3d0dfa-21a4-4817-b4ba-f43f9e28f0ce",
   "metadata": {},
   "outputs": [],
   "source": [
    "## Now run demixing...\n",
    "num_iters = 13\n",
    "localnmf_params = {\n",
    "    'maxiter':num_iters,\n",
    "    'support_threshold':np.linspace(0.6, 0.6, num_iters).tolist(),\n",
    "    'deletion_threshold':0.2,\n",
    "    'ring_model_start_pt':3, #No ring model needed\n",
    "    'ring_radius':20,\n",
    "    'merge_threshold':0.4,\n",
    "    'merge_overlap_threshold':0.4,\n",
    "    'update_frequency':4,\n",
    "    'c_nonneg':False,\n",
    "    'denoise':False,\n",
    "    'plot_en': True\n",
    "}\n",
    "\n",
    "start_time = time.time()\n",
    "with torch.no_grad():\n",
    "    highpass_pmd_demixer.demix(**localnmf_params)\n",
    "print(f\"that took {time.time() - start_time}\")\n",
    "print(f\"Number of neurons after demixing is {highpass_pmd_demixer.results.a.shape[1]}\")"
   ]
  },
  {
   "cell_type": "code",
   "execution_count": 13,
   "id": "aab0c1d8-9c5c-4240-8719-c45876a1bde8",
   "metadata": {},
   "outputs": [],
   "source": [
    "results = highpass_pmd_demixer.results\n",
    "\n",
    "iw = make_demixing_video(results,\n",
    "                         device,\n",
    "                         v_range=[-1, 1])\n",
    "\n",
    "iw.show()"
   ]
  },
  {
   "cell_type": "markdown",
   "id": "2141d31c-d160-4500-9eac-2c2b566741ac",
   "metadata": {},
   "source": [
    "# Part 2: Take the above spatial signals, and regress the (unfiltered) PMD data onto it. Note: the \"support expansion\", merging, are all disabled here (we do all that on the filtered data). At this stage we can just do alternating least squares updates to estimate A and C."
   ]
  },
  {
   "cell_type": "markdown",
   "id": "2b9ccc99-b219-438c-bdf1-f9503c5f7739",
   "metadata": {},
   "source": [
    "# Load the (unfiltered) PMD data and regress it directly onto the above spatial profiles"
   ]
  },
  {
   "cell_type": "code",
   "execution_count": 41,
   "id": "c385030a-d631-4e70-881f-b86adf3bb8b6",
   "metadata": {},
   "outputs": [],
   "source": [
    "filename = \"/path/to/pmd_decomposition.npz\"\n",
    "full_pmd_movie = np.load(filename, allow_pickle=True)['pmd'].item()"
   ]
  },
  {
   "cell_type": "code",
   "execution_count": 42,
   "id": "82d023dd-a9b5-45d4-b6b1-e2b6382f41ea",
   "metadata": {},
   "outputs": [],
   "source": [
    "#Construct the SignalDemixer demixing object\n",
    "num_frames, fov_dim1, fov_dim2 = full_pmd_movie.shape\n",
    "unfiltered_pmd_demixer = localnmf.SignalDemixer(full_pmd_movie.u,\n",
    "                                                full_pmd_movie.r,\n",
    "                                                full_pmd_movie.s,\n",
    "                                                full_pmd_movie.v,\n",
    "                                                (fov_dim1, fov_dim2, num_frames), \n",
    "                                                data_order=full_pmd_movie.order,\n",
    "                                                device=device)"
   ]
  },
  {
   "cell_type": "markdown",
   "id": "11b35e2c-a61d-4f7a-a357-3200e1af364a",
   "metadata": {},
   "source": [
    "# Initialize the signals using the \"custom\" option, where we provide pre-computed spatial footprints"
   ]
  },
  {
   "cell_type": "code",
   "execution_count": 43,
   "id": "198939c7-8847-4c84-bb9c-876c2333ca7a",
   "metadata": {},
   "outputs": [
    {
     "name": "stdout",
     "output_type": "stream",
     "text": [
      "Now in demixing state\n"
     ]
    }
   ],
   "source": [
    "unfiltered_pmd_demixer.initialize_signals(is_custom=True, spatial_footprints=highpass_pmd_demixer.results.a)\n",
    "unfiltered_pmd_demixer.lock_results_and_continue()"
   ]
  },
  {
   "cell_type": "markdown",
   "id": "2addd2fd-b3ff-4b39-9076-4fdc6228b184",
   "metadata": {},
   "source": [
    "# Run demixing, with no support updates"
   ]
  },
  {
   "cell_type": "code",
   "execution_count": 9,
   "id": "4aaff0ba-66ce-49b1-9f76-e298ce73ab4b",
   "metadata": {},
   "outputs": [],
   "source": [
    "## Now run demixing...\n",
    "num_iters = 18\n",
    "localnmf_params = {\n",
    "    'maxiter':num_iters,\n",
    "    'support_threshold':np.linspace(0.8, 0.5, num_iters).tolist(),\n",
    "    'deletion_threshold':0.2,\n",
    "    'ring_model_start_pt':2, #Use ring model needed\n",
    "    'ring_radius':20,\n",
    "    'merge_threshold':0.8,\n",
    "    'merge_overlap_threshold':0.8,\n",
    "    'update_frequency':4, #No support updates\n",
    "    'c_nonneg':True,\n",
    "    'denoise':False,\n",
    "    'plot_en': False\n",
    "}\n",
    "\n",
    "start_time = time.time()\n",
    "with torch.no_grad():\n",
    "    unfiltered_pmd_demixer.demix(**localnmf_params)\n",
    "print(f\"that took {time.time() - start_time}\")\n",
    "print(f\"Identified {unfiltered_pmd_demixer.results.a.shape[1]} neurons\")\n",
    "\n",
    "\n"
   ]
  },
  {
   "cell_type": "markdown",
   "id": "efcbc8d7-fcc9-40ef-bec1-26d610b769ea",
   "metadata": {},
   "source": [
    "# Visualize demixing results"
   ]
  },
  {
   "cell_type": "code",
   "execution_count": 10,
   "id": "0da661a6-c9ac-4544-be17-81442e8b5b1b",
   "metadata": {},
   "outputs": [],
   "source": [
    "results = unfiltered_pmd_demixer.results\n",
    "\n",
    "iw = make_demixing_video(results,\n",
    "                         device,\n",
    "                         v_range=[-1, 1])\n",
    "\n",
    "iw.show()"
   ]
  },
  {
   "cell_type": "code",
   "execution_count": 12,
   "id": "e85ca81b-680e-4811-ac2d-8cf4fc91f834",
   "metadata": {},
   "outputs": [],
   "source": [
    "unfiltered_pmd_demixer.lock_results_and_continue()"
   ]
  },
  {
   "cell_type": "code",
   "execution_count": 2,
   "id": "9af3d2e0-805f-46d9-b454-8f468e327312",
   "metadata": {},
   "outputs": [],
   "source": [
    "init_kwargs = {\n",
    "    #In the second pass, these params are smaller to pick up \"smaller\" signals\n",
    "    'mad_correlation_threshold':0.6,\n",
    "    'min_superpixel_size':3,\n",
    "\n",
    "    #Mostly stable\n",
    "    'mad_threshold':1,\n",
    "    'residual_threshold': 0.3,\n",
    "    'patch_size':(40, 40),\n",
    "    'robust_corr_term':0.03,\n",
    "    'plot_en':True,\n",
    "    'text':False,\n",
    "}\n",
    "\n",
    "\n",
    "unfiltered_pmd_demixer.initialize_signals(**init_kwargs, is_custom = False)"
   ]
  },
  {
   "cell_type": "code",
   "execution_count": 3,
   "id": "988a5e3a-c74f-41dd-afed-5e78548a162a",
   "metadata": {},
   "outputs": [],
   "source": [
    "unfiltered_pmd_demixer.lock_results_and_continue()"
   ]
  },
  {
   "cell_type": "code",
   "execution_count": 4,
   "id": "28f190e6-4b3b-4567-8a2e-22b5b8ee36e8",
   "metadata": {},
   "outputs": [],
   "source": [
    "## Now run demixing...\n",
    "localnmf_params = {\n",
    "    'maxiter':25,\n",
    "    'support_threshold':np.linspace(0.7, 0.6, 25).tolist(),\n",
    "    'deletion_threshold':0.2,\n",
    "    'ring_model_start_pt':28, #No ring model needed\n",
    "    'ring_radius':20,\n",
    "    'merge_threshold':0.8,\n",
    "    'merge_overlap_threshold':0.8,\n",
    "    'update_frequency':40, #No support updates\n",
    "    'c_nonneg':False,\n",
    "    'denoise':False,\n",
    "    'plot_en': False\n",
    "}\n",
    "\n",
    "start_time = time.time()\n",
    "with torch.no_grad():\n",
    "    unfiltered_pmd_demixer.demix(**localnmf_params)\n",
    "print(f\"that took {time.time() - start_time}\")\n",
    "print(f\"Identified {unfiltered_pmd_demixer.results.a.shape[1]} neurons\")\n",
    "\n",
    "\n"
   ]
  },
  {
   "cell_type": "markdown",
   "id": "0255a6d4-c1d4-4c65-b007-513ce66040b1",
   "metadata": {},
   "source": [
    "# Final Step: regress the data onto the fixed spatial footprints without any background term"
   ]
  },
  {
   "cell_type": "code",
   "execution_count": 56,
   "id": "f4cc8b82-c75c-4030-a704-bddb1d8ae7ee",
   "metadata": {},
   "outputs": [],
   "source": [
    "final_pmd_demixer = localnmf.SignalDemixer(full_pmd_movie.u,\n",
    "                                                full_pmd_movie.r,\n",
    "                                                full_pmd_movie.s,\n",
    "                                                full_pmd_movie.v,\n",
    "                                                (fov_dim1, fov_dim2, num_frames), \n",
    "                                                data_order=full_pmd_movie.order,\n",
    "                                                device=device)"
   ]
  },
  {
   "cell_type": "code",
   "execution_count": 5,
   "id": "9d962bd8-e82f-4ffc-a89b-6fa890629bad",
   "metadata": {},
   "outputs": [],
   "source": [
    "final_pmd_demixer.initialize_signals(is_custom=True, spatial_footprints=unfiltered_pmd_demixer.results.a)\n",
    "final_pmd_demixer.lock_results_and_continue()"
   ]
  },
  {
   "cell_type": "code",
   "execution_count": 6,
   "id": "574101ef-edce-4310-9a70-6356102df318",
   "metadata": {},
   "outputs": [],
   "source": [
    "## Now run demixing...\n",
    "num_iters = 25\n",
    "localnmf_params = {\n",
    "    'maxiter':num_iters,\n",
    "    'support_threshold':np.linspace(0.8, 0.5, num_iters).tolist(),\n",
    "    'deletion_threshold':0.2,\n",
    "    'ring_model_start_pt':num_iters + 1, #No ring model needed\n",
    "    'ring_radius':20,\n",
    "    'merge_threshold':0.8,\n",
    "    'merge_overlap_threshold':0.8,\n",
    "    'update_frequency':num_iters + 1, #No support updates\n",
    "    'c_nonneg':False,\n",
    "    'denoise':False,\n",
    "    'plot_en': False\n",
    "}\n",
    "\n",
    "start_time = time.time()\n",
    "with torch.no_grad():\n",
    "    final_pmd_demixer.demix(**localnmf_params)\n",
    "print(f\"that took {time.time() - start_time}\")\n",
    "print(f\"Identified {final_pmd_demixer.results.a.shape[1]} neurons\")\n",
    "\n",
    "\n"
   ]
  },
  {
   "cell_type": "markdown",
   "id": "def82da8-10e8-4ceb-b42f-0278560dec43",
   "metadata": {},
   "source": [
    "# Step 3: Visualize + export results"
   ]
  },
  {
   "cell_type": "markdown",
   "id": "9ed84703-0aa1-4e51-bd39-cfbf0a5a6227",
   "metadata": {},
   "source": [
    "# Visualize final demixing results as a demixing video"
   ]
  },
  {
   "cell_type": "code",
   "execution_count": 7,
   "id": "6528bac2-b632-4ac2-9c79-2cd49d6e137e",
   "metadata": {},
   "outputs": [],
   "source": [
    "results = unfiltered_pmd_demixer.results\n",
    "iw = make_demixing_video(results,\n",
    "                         device,\n",
    "                         v_range=[-1, 1])\n",
    "\n",
    "iw.show()"
   ]
  },
  {
   "cell_type": "markdown",
   "id": "ca996143-7c39-4588-8bb9-73f4d5a44b0a",
   "metadata": {},
   "source": [
    "# Plot the results into a folder"
   ]
  },
  {
   "cell_type": "code",
   "execution_count": 8,
   "id": "82c5bfb7-fe89-48d9-a73c-f8cbd966e6f5",
   "metadata": {},
   "outputs": [],
   "source": [
    "## Specify which folder things get saved to: \n",
    "folder = 'Path_To_Save_Data'\n",
    "if os.path.exists(folder):\n",
    "    raise ValueError(f\"folder {folder} already exists. delete it or pick different folder name\")\n",
    "else:\n",
    "    os.mkdir(folder)\n",
    "\n",
    "results = unfiltered_pmd_demixer.results\n",
    "\n",
    "for i in range(results.a.shape[1]):\n",
    "    name = f\"neuron_{i}.html\"\n",
    "    plot_ith_roi(i, results, folder=folder, name=name, radius = 30)\n",
    "\n",
    "construct_index(folder)"
   ]
  }
 ],
 "metadata": {
  "kernelspec": {
   "display_name": "Python 3 (ipykernel)",
   "language": "python",
   "name": "python3"
  },
  "language_info": {
   "codemirror_mode": {
    "name": "ipython",
    "version": 3
   },
   "file_extension": ".py",
   "mimetype": "text/x-python",
   "name": "python",
   "nbconvert_exporter": "python",
   "pygments_lexer": "ipython3",
   "version": "3.11.9"
  }
 },
 "nbformat": 4,
 "nbformat_minor": 5
}
