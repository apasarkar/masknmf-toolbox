{
 "cells": [
  {
   "cell_type": "code",
   "execution_count": 6,
   "id": "634cd76f-c18d-40ec-8acf-63a0d41c7403",
   "metadata": {},
   "outputs": [
    {
     "name": "stdout",
     "output_type": "stream",
     "text": [
      "The autoreload extension is already loaded. To reload it, use:\n",
      "  %reload_ext autoreload\n"
     ]
    }
   ],
   "source": [
    "import fastplotlib as fpl\n",
    "import masknmf\n",
    "import tifffile\n",
    "import torch\n",
    "import numpy as np\n",
    "%load_ext autoreload"
   ]
  },
  {
   "cell_type": "markdown",
   "id": "6e1317ee-cf52-491e-b880-476fd1f309e3",
   "metadata": {},
   "source": [
    "# Load dataset of interest"
   ]
  },
  {
   "cell_type": "code",
   "execution_count": 2,
   "id": "7e7ce0dd-f7ab-441c-bb0e-246c167000f8",
   "metadata": {},
   "outputs": [],
   "source": [
    "data = tifffile.imread(\"/path/to/data.tiff\")"
   ]
  },
  {
   "cell_type": "markdown",
   "id": "9763d41d-6a0e-4a82-bca5-1f3e5956667b",
   "metadata": {},
   "source": [
    "# Run PMD decomposition. Result is a PMDArray object, which behaves like an array (supports slicing, etc.) and also supports \"to\" (so you can move it back and forth from cuda)"
   ]
  },
  {
   "cell_type": "code",
   "execution_count": 13,
   "id": "838ab296-2d04-4ac5-ae11-0ac121509f4d",
   "metadata": {},
   "outputs": [],
   "source": [
    "block_sizes = [32, 32]\n",
    "max_components = 20\n",
    "background_rank = 2\n",
    "device = \"cuda\"\n",
    "pixel_weighting = np.std(data, axis = 0) #This is an optional parameter\n",
    "num_frames_for_spatial_fit = data.shape[0] #How many frames we use to estimate the spatial basis in PMD\n",
    "\n",
    "pmd_result = masknmf.compression.pmd_decomposition(data,\n",
    "                                                block_sizes,\n",
    "                                                num_frames_for_spatial_fit,\n",
    "                                                max_components = max_components,\n",
    "                                                background_rank = background_rank,\n",
    "                                               device = device,\n",
    "                                               pixel_weighting=pixel_weighting,\n",
    "                                               frame_batch_size = 1024)"
   ]
  },
  {
   "cell_type": "markdown",
   "id": "4f979135-42ed-491f-9bc3-6b5eabf3b55f",
   "metadata": {},
   "source": [
    "# Move PMD to or from cuda"
   ]
  },
  {
   "cell_type": "code",
   "execution_count": 10,
   "id": "1910cf5f-9f1d-4e4f-9f89-802f556a32fe",
   "metadata": {},
   "outputs": [],
   "source": [
    "pmd_result.to('cuda')"
   ]
  },
  {
   "cell_type": "markdown",
   "id": "ac3c6080-e2f2-43fd-a424-30c7c5e55a25",
   "metadata": {},
   "source": [
    "# Use fastplotlib to see the raw and PMD results side by side. Note that even the PMDArray is on CUDA, calls to __getitem__ return numpy arrays (on CPU):"
   ]
  },
  {
   "cell_type": "code",
   "execution_count": 12,
   "id": "5a31926b-fedc-4a93-9327-532ec6ed59cb",
   "metadata": {},
   "outputs": [],
   "source": [
    "iw = fpl.ImageWidget(data = [data, pmd_result])\n",
    "iw.cmap = \"gray\"\n",
    "iw.show()"
   ]
  }
 ],
 "metadata": {
  "kernelspec": {
   "display_name": "Python 3 (ipykernel)",
   "language": "python",
   "name": "python3"
  },
  "language_info": {
   "codemirror_mode": {
    "name": "ipython",
    "version": 3
   },
   "file_extension": ".py",
   "mimetype": "text/x-python",
   "name": "python",
   "nbconvert_exporter": "python",
   "pygments_lexer": "ipython3",
   "version": "3.11.9"
  }
 },
 "nbformat": 4,
 "nbformat_minor": 5
}
