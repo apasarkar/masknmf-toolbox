{
 "cells": [
  {
   "cell_type": "code",
   "execution_count": 2,
   "id": "f85496ba-ea67-44fc-bd87-62b803b71455",
   "metadata": {
    "execution": {
     "iopub.execute_input": "2025-06-17T01:25:27.530213Z",
     "iopub.status.busy": "2025-06-17T01:25:27.530213Z",
     "iopub.status.idle": "2025-06-17T01:25:31.030184Z",
     "shell.execute_reply": "2025-06-17T01:25:31.030184Z",
     "shell.execute_reply.started": "2025-06-17T01:25:27.530213Z"
    }
   },
   "outputs": [
    {
     "data": {
      "application/vnd.jupyter.widget-view+json": {
       "model_id": "8e1b9c62389541e6b39667ea5df584c3",
       "version_major": 2,
       "version_minor": 0
      },
      "text/plain": [
       "Image(value=b'version https://git-lfs.github.com/spec/...', height='55', width='300')"
      ]
     },
     "metadata": {},
     "output_type": "display_data"
    },
    {
     "data": {
      "text/html": [
       "<b>Available devices:</b><table><tr><th>Valid</th><th>Device</th><th>Type</th><th>Backend</th><th>Driver</th></tr><tr title=\"This adapter can be used with fastplotlib\"><td>✅ (default) </td><td>NVIDIA RTX A4000</td><td>DiscreteGPU</td><td>Vulkan</td><td>560.94</td></tr><tr title=\"This adapter can be used with fastplotlib\"><td>✅</td><td>NVIDIA RTX A4000</td><td>DiscreteGPU</td><td>D3D12</td><td></td></tr><tr title=\"This adapter can be used with fastplotlib\"><td>✅</td><td>NVIDIA RTX A4000</td><td>DiscreteGPU</td><td>D3D12</td><td></td></tr><tr title=\"CPU rendering support is limited and mainly for testing purposes\"><td>❗ limited</td><td>Microsoft Basic Render Driver</td><td>CPU</td><td>D3D12</td><td></td></tr><tr title=\"This adapter cannot be used with fastplotlib\"><td>❌</td><td>NVIDIA RTX A4000/PCIe/SSE2</td><td>Unknown</td><td>OpenGL</td><td>4.6.0 NVIDIA 560.94</td></tr></table>"
      ],
      "text/plain": [
       "<IPython.core.display.HTML object>"
      ]
     },
     "metadata": {},
     "output_type": "display_data"
    }
   ],
   "source": [
    "import masknmf\n",
    "from pathlib import Path\n",
    "import fastplotlib as fpl\n",
    "import tifffile\n",
    "import numpy as np\n",
    "import matplotlib.pyplot as plt\n",
    "from matplotlib.gridspec import GridSpec, GridSpecFromSubplotSpec\n",
    "\n",
    "try:\n",
    "    import mbo_utilities as mbo\n",
    "except ImportError:\n",
    "    print(\"!uv pip install git+https://github.com/MillerBrainObservatory/mbo_utilities.git@dev\")\n",
    "    \n",
    "from scipy.ndimage import fourier_shift\n",
    "from skimage.registration import phase_cross_correlation\n",
    "\n",
    "from mbo_utilities import log, lazy_array\n",
    "from mbo_utilities.phasecorr import _phase_corr_2d, apply_scan_phase_offsets, _apply_offset"
   ]
  },
  {
   "cell_type": "code",
   "execution_count": 3,
   "id": "3beb0314-0fb3-44c3-a8f5-543d34bd9686",
   "metadata": {
    "execution": {
     "iopub.execute_input": "2025-06-17T01:25:33.493101Z",
     "iopub.status.busy": "2025-06-17T01:25:33.493101Z",
     "iopub.status.idle": "2025-06-17T01:25:33.512820Z",
     "shell.execute_reply": "2025-06-17T01:25:33.512820Z",
     "shell.execute_reply.started": "2025-06-17T01:25:33.493101Z"
    }
   },
   "outputs": [
    {
     "data": {
      "text/plain": [
       "(5632, 448, 224)"
      ]
     },
     "execution_count": 3,
     "metadata": {},
     "output_type": "execute_result"
    }
   ],
   "source": [
    "raw = lazy_array.LazyArrayLoader(r\"D:\\tests_plane11\\roi2\\no_corr\").load()\n",
    "raw.shape"
   ]
  },
  {
   "cell_type": "code",
   "execution_count": 4,
   "id": "c2184f03-5967-4305-a596-8dfa01dd27f9",
   "metadata": {
    "execution": {
     "iopub.execute_input": "2025-06-17T01:25:34.963451Z",
     "iopub.status.busy": "2025-06-17T01:25:34.963451Z",
     "iopub.status.idle": "2025-06-17T01:25:34.967005Z",
     "shell.execute_reply": "2025-06-17T01:25:34.967005Z",
     "shell.execute_reply.started": "2025-06-17T01:25:34.963451Z"
    }
   },
   "outputs": [
    {
     "data": {
      "text/plain": [
       "numpy.memmap"
      ]
     },
     "execution_count": 4,
     "metadata": {},
     "output_type": "execute_result"
    }
   ],
   "source": [
    "type(raw)"
   ]
  },
  {
   "cell_type": "code",
   "execution_count": null,
   "id": "91474a4b-72c9-40c8-b403-c358d263dfbf",
   "metadata": {},
   "outputs": [],
   "source": []
  }
 ],
 "metadata": {
  "kernelspec": {
   "display_name": "Python 3 (ipykernel)",
   "language": "python",
   "name": "python3"
  },
  "language_info": {
   "codemirror_mode": {
    "name": "ipython",
    "version": 3
   },
   "file_extension": ".py",
   "mimetype": "text/x-python",
   "name": "python",
   "nbconvert_exporter": "python",
   "pygments_lexer": "ipython3",
   "version": "3.12.4"
  }
 },
 "nbformat": 4,
 "nbformat_minor": 5
}
