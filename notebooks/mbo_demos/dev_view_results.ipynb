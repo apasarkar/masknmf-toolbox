{
 "cells": [
  {
   "cell_type": "code",
   "execution_count": 1,
   "id": "1eae9042-2fcc-41fd-a8bc-3943846671b5",
   "metadata": {
    "execution": {
     "iopub.execute_input": "2025-05-20T18:39:11.975800Z",
     "iopub.status.busy": "2025-05-20T18:39:11.974949Z",
     "iopub.status.idle": "2025-05-20T18:39:12.400944Z",
     "shell.execute_reply": "2025-05-20T18:39:12.399615Z",
     "shell.execute_reply.started": "2025-05-20T18:39:11.975757Z"
    }
   },
   "outputs": [
    {
     "name": "stdout",
     "output_type": "stream",
     "text": [
      "Sourcing .zshenv...\n",
      "\u001b[2mUsing Python 3.12.10 environment at: /home/flynn/repos/work/masknmf-toolbox/.venv\u001b[0m\n",
      "\u001b[2K\u001b[2mResolved \u001b[1m92 packages\u001b[0m \u001b[2min 260ms\u001b[0m\u001b[0m                                        \u001b[0m\n",
      "\u001b[2K\u001b[2mInstalled \u001b[1m1 package\u001b[0m \u001b[2min 6ms\u001b[0m\u001b[0m.4                                \u001b[0m\n",
      " \u001b[32m+\u001b[39m \u001b[1mjupyterlab-vim\u001b[0m\u001b[2m==4.1.4\u001b[0m\n"
     ]
    }
   ],
   "source": [
    "!uv pip install jupyterlab-vim"
   ]
  },
  {
   "cell_type": "code",
   "execution_count": 30,
   "id": "3b23a91b-7301-4368-9473-441c727d8c76",
   "metadata": {
    "execution": {
     "iopub.execute_input": "2025-05-21T01:13:41.664867Z",
     "iopub.status.busy": "2025-05-21T01:13:41.664161Z",
     "iopub.status.idle": "2025-05-21T01:13:41.671674Z",
     "shell.execute_reply": "2025-05-21T01:13:41.670950Z",
     "shell.execute_reply.started": "2025-05-21T01:13:41.664834Z"
    }
   },
   "outputs": [
    {
     "name": "stdout",
     "output_type": "stream",
     "text": [
      "The autoreload extension is already loaded. To reload it, use:\n",
      "  %reload_ext autoreload\n"
     ]
    }
   ],
   "source": [
    "%matplotlib inline\n",
    "%load_ext autoreload\n",
    "\n",
    "from pathlib import Path\n",
    "import fastplotlib as fpl\n",
    "import os\n",
    "import sys\n",
    "import masknmf\n",
    "import tifffile\n",
    "import torch\n",
    "import numpy as np\n",
    "\n",
    "import matplotlib.pyplot as plt\n",
    "import time"
   ]
  },
  {
   "cell_type": "code",
   "execution_count": 33,
   "id": "2d2e9f73-d991-4ddf-bfdc-3421541787b9",
   "metadata": {
    "execution": {
     "iopub.execute_input": "2025-05-21T01:14:04.788296Z",
     "iopub.status.busy": "2025-05-21T01:14:04.787144Z",
     "iopub.status.idle": "2025-05-21T01:14:04.795755Z",
     "shell.execute_reply": "2025-05-21T01:14:04.794739Z",
     "shell.execute_reply.started": "2025-05-21T01:14:04.788244Z"
    }
   },
   "outputs": [],
   "source": [
    "def load_npz(fpath):\n",
    "    fpath = Path(fpath)\n",
    "    files = [x for x in Path(fpath).rglob(\"*\")]\n",
    "\n",
    "    arrs = []\n",
    "    for file in files:\n",
    "        if file.suffix == \".npz\":\n",
    "            # print(file)\n",
    "            arrs.append(np.load(file, allow_pickle=True))\n",
    "    return arrs"
   ]
  },
  {
   "cell_type": "code",
   "execution_count": 34,
   "id": "62dee496-d5a7-42be-abc2-2e107292c8d0",
   "metadata": {
    "execution": {
     "iopub.execute_input": "2025-05-21T01:14:06.615237Z",
     "iopub.status.busy": "2025-05-21T01:14:06.614455Z",
     "iopub.status.idle": "2025-05-21T01:14:06.623674Z",
     "shell.execute_reply": "2025-05-21T01:14:06.622961Z",
     "shell.execute_reply.started": "2025-05-21T01:14:06.615197Z"
    }
   },
   "outputs": [
    {
     "data": {
      "text/plain": [
       "6"
      ]
     },
     "execution_count": 34,
     "metadata": {},
     "output_type": "execute_result"
    }
   ],
   "source": [
    "path = \"/home/flynn/.masknmf/results\"\n",
    "arrs = load_npz(path)\n",
    "\n",
    "len(arrs)"
   ]
  },
  {
   "cell_type": "code",
   "execution_count": 35,
   "id": "3851c980-0736-4434-9da9-02d46fc5e511",
   "metadata": {
    "execution": {
     "iopub.execute_input": "2025-05-21T01:14:11.437713Z",
     "iopub.status.busy": "2025-05-21T01:14:11.437423Z",
     "iopub.status.idle": "2025-05-21T01:14:11.961151Z",
     "shell.execute_reply": "2025-05-21T01:14:11.960444Z",
     "shell.execute_reply.started": "2025-05-21T01:14:11.437690Z"
    }
   },
   "outputs": [
    {
     "name": "stdout",
     "output_type": "stream",
     "text": [
      "<class 'numpy.ndarray'>\n"
     ]
    },
    {
     "ename": "RuntimeError",
     "evalue": "Attempting to deserialize object on a CUDA device but torch.cuda.is_available() is False. If you are running on a CPU-only machine, please use torch.load with map_location=torch.device('cpu') to map your storages to the CPU.",
     "output_type": "error",
     "traceback": [
      "\u001b[31m---------------------------------------------------------------------------\u001b[39m",
      "\u001b[31mRuntimeError\u001b[39m                              Traceback (most recent call last)",
      "\u001b[36mCell\u001b[39m\u001b[36m \u001b[39m\u001b[32mIn[35]\u001b[39m\u001b[32m, line 3\u001b[39m\n\u001b[32m      1\u001b[39m \u001b[38;5;28;01mfor\u001b[39;00m i, arr \u001b[38;5;129;01min\u001b[39;00m \u001b[38;5;28menumerate\u001b[39m(arrs):\n\u001b[32m      2\u001b[39m     key = \u001b[38;5;28mtuple\u001b[39m(arr.keys())[\u001b[32m0\u001b[39m]\n\u001b[32m----> \u001b[39m\u001b[32m3\u001b[39m     array = \u001b[43marr\u001b[49m\u001b[43m[\u001b[49m\u001b[43mkey\u001b[49m\u001b[43m]\u001b[49m\n\u001b[32m      4\u001b[39m     \u001b[38;5;28mprint\u001b[39m(\u001b[38;5;28mtype\u001b[39m(array))\n",
      "\u001b[36mFile \u001b[39m\u001b[32m~/repos/work/masknmf-toolbox/.venv/lib/python3.12/site-packages/numpy/lib/_npyio_impl.py:254\u001b[39m, in \u001b[36mNpzFile.__getitem__\u001b[39m\u001b[34m(self, key)\u001b[39m\n\u001b[32m    252\u001b[39m \u001b[38;5;28;01mif\u001b[39;00m magic == \u001b[38;5;28mformat\u001b[39m.MAGIC_PREFIX:\n\u001b[32m    253\u001b[39m     \u001b[38;5;28mbytes\u001b[39m = \u001b[38;5;28mself\u001b[39m.zip.open(key)\n\u001b[32m--> \u001b[39m\u001b[32m254\u001b[39m     \u001b[38;5;28;01mreturn\u001b[39;00m \u001b[38;5;28;43mformat\u001b[39;49m\u001b[43m.\u001b[49m\u001b[43mread_array\u001b[49m\u001b[43m(\u001b[49m\u001b[38;5;28;43mbytes\u001b[39;49m\u001b[43m,\u001b[49m\n\u001b[32m    255\u001b[39m \u001b[43m                             \u001b[49m\u001b[43mallow_pickle\u001b[49m\u001b[43m=\u001b[49m\u001b[38;5;28;43mself\u001b[39;49m\u001b[43m.\u001b[49m\u001b[43mallow_pickle\u001b[49m\u001b[43m,\u001b[49m\n\u001b[32m    256\u001b[39m \u001b[43m                             \u001b[49m\u001b[43mpickle_kwargs\u001b[49m\u001b[43m=\u001b[49m\u001b[38;5;28;43mself\u001b[39;49m\u001b[43m.\u001b[49m\u001b[43mpickle_kwargs\u001b[49m\u001b[43m,\u001b[49m\n\u001b[32m    257\u001b[39m \u001b[43m                             \u001b[49m\u001b[43mmax_header_size\u001b[49m\u001b[43m=\u001b[49m\u001b[38;5;28;43mself\u001b[39;49m\u001b[43m.\u001b[49m\u001b[43mmax_header_size\u001b[49m\u001b[43m)\u001b[49m\n\u001b[32m    258\u001b[39m \u001b[38;5;28;01melse\u001b[39;00m:\n\u001b[32m    259\u001b[39m     \u001b[38;5;28;01mreturn\u001b[39;00m \u001b[38;5;28mself\u001b[39m.zip.read(key)\n",
      "\u001b[36mFile \u001b[39m\u001b[32m~/repos/work/masknmf-toolbox/.venv/lib/python3.12/site-packages/numpy/lib/format.py:820\u001b[39m, in \u001b[36mread_array\u001b[39m\u001b[34m(fp, allow_pickle, pickle_kwargs, max_header_size)\u001b[39m\n\u001b[32m    818\u001b[39m     pickle_kwargs = {}\n\u001b[32m    819\u001b[39m \u001b[38;5;28;01mtry\u001b[39;00m:\n\u001b[32m--> \u001b[39m\u001b[32m820\u001b[39m     array = \u001b[43mpickle\u001b[49m\u001b[43m.\u001b[49m\u001b[43mload\u001b[49m\u001b[43m(\u001b[49m\u001b[43mfp\u001b[49m\u001b[43m,\u001b[49m\u001b[43m \u001b[49m\u001b[43m*\u001b[49m\u001b[43m*\u001b[49m\u001b[43mpickle_kwargs\u001b[49m\u001b[43m)\u001b[49m\n\u001b[32m    821\u001b[39m \u001b[38;5;28;01mexcept\u001b[39;00m \u001b[38;5;167;01mUnicodeError\u001b[39;00m \u001b[38;5;28;01mas\u001b[39;00m err:\n\u001b[32m    822\u001b[39m     \u001b[38;5;66;03m# Friendlier error message\u001b[39;00m\n\u001b[32m    823\u001b[39m     \u001b[38;5;28;01mraise\u001b[39;00m \u001b[38;5;167;01mUnicodeError\u001b[39;00m(\u001b[33m\"\u001b[39m\u001b[33mUnpickling a python object failed: \u001b[39m\u001b[38;5;132;01m%r\u001b[39;00m\u001b[38;5;130;01m\\n\u001b[39;00m\u001b[33m\"\u001b[39m\n\u001b[32m    824\u001b[39m                        \u001b[33m\"\u001b[39m\u001b[33mYou may need to pass the encoding= option \u001b[39m\u001b[33m\"\u001b[39m\n\u001b[32m    825\u001b[39m                        \u001b[33m\"\u001b[39m\u001b[33mto numpy.load\u001b[39m\u001b[33m\"\u001b[39m % (err,)) \u001b[38;5;28;01mfrom\u001b[39;00m\u001b[38;5;250m \u001b[39m\u001b[34;01merr\u001b[39;00m\n",
      "\u001b[36mFile \u001b[39m\u001b[32m~/repos/work/masknmf-toolbox/.venv/lib/python3.12/site-packages/torch/storage.py:530\u001b[39m, in \u001b[36m_load_from_bytes\u001b[39m\u001b[34m(b)\u001b[39m\n\u001b[32m    529\u001b[39m \u001b[38;5;28;01mdef\u001b[39;00m\u001b[38;5;250m \u001b[39m\u001b[34m_load_from_bytes\u001b[39m(b):\n\u001b[32m--> \u001b[39m\u001b[32m530\u001b[39m     \u001b[38;5;28;01mreturn\u001b[39;00m \u001b[43mtorch\u001b[49m\u001b[43m.\u001b[49m\u001b[43mload\u001b[49m\u001b[43m(\u001b[49m\u001b[43mio\u001b[49m\u001b[43m.\u001b[49m\u001b[43mBytesIO\u001b[49m\u001b[43m(\u001b[49m\u001b[43mb\u001b[49m\u001b[43m)\u001b[49m\u001b[43m,\u001b[49m\u001b[43m \u001b[49m\u001b[43mweights_only\u001b[49m\u001b[43m=\u001b[49m\u001b[38;5;28;43;01mFalse\u001b[39;49;00m\u001b[43m)\u001b[49m\n",
      "\u001b[36mFile \u001b[39m\u001b[32m~/repos/work/masknmf-toolbox/.venv/lib/python3.12/site-packages/torch/serialization.py:1549\u001b[39m, in \u001b[36mload\u001b[39m\u001b[34m(f, map_location, pickle_module, weights_only, mmap, **pickle_load_args)\u001b[39m\n\u001b[32m   1547\u001b[39m     \u001b[38;5;28;01mexcept\u001b[39;00m pickle.UnpicklingError \u001b[38;5;28;01mas\u001b[39;00m e:\n\u001b[32m   1548\u001b[39m         \u001b[38;5;28;01mraise\u001b[39;00m pickle.UnpicklingError(_get_wo_message(\u001b[38;5;28mstr\u001b[39m(e))) \u001b[38;5;28;01mfrom\u001b[39;00m\u001b[38;5;250m \u001b[39m\u001b[38;5;28;01mNone\u001b[39;00m\n\u001b[32m-> \u001b[39m\u001b[32m1549\u001b[39m \u001b[38;5;28;01mreturn\u001b[39;00m \u001b[43m_legacy_load\u001b[49m\u001b[43m(\u001b[49m\n\u001b[32m   1550\u001b[39m \u001b[43m    \u001b[49m\u001b[43mopened_file\u001b[49m\u001b[43m,\u001b[49m\u001b[43m \u001b[49m\u001b[43mmap_location\u001b[49m\u001b[43m,\u001b[49m\u001b[43m \u001b[49m\u001b[43mpickle_module\u001b[49m\u001b[43m,\u001b[49m\u001b[43m \u001b[49m\u001b[43m*\u001b[49m\u001b[43m*\u001b[49m\u001b[43mpickle_load_args\u001b[49m\n\u001b[32m   1551\u001b[39m \u001b[43m\u001b[49m\u001b[43m)\u001b[49m\n",
      "\u001b[36mFile \u001b[39m\u001b[32m~/repos/work/masknmf-toolbox/.venv/lib/python3.12/site-packages/torch/serialization.py:1807\u001b[39m, in \u001b[36m_legacy_load\u001b[39m\u001b[34m(f, map_location, pickle_module, **pickle_load_args)\u001b[39m\n\u001b[32m   1805\u001b[39m unpickler = UnpicklerWrapper(f, **pickle_load_args)\n\u001b[32m   1806\u001b[39m unpickler.persistent_load = persistent_load\n\u001b[32m-> \u001b[39m\u001b[32m1807\u001b[39m result = \u001b[43munpickler\u001b[49m\u001b[43m.\u001b[49m\u001b[43mload\u001b[49m\u001b[43m(\u001b[49m\u001b[43m)\u001b[49m\n\u001b[32m   1809\u001b[39m deserialized_storage_keys = pickle_module.load(f, **pickle_load_args)\n\u001b[32m   1811\u001b[39m \u001b[38;5;28;01mif\u001b[39;00m torch._guards.active_fake_mode() \u001b[38;5;129;01mis\u001b[39;00m \u001b[38;5;28;01mNone\u001b[39;00m \u001b[38;5;129;01mand\u001b[39;00m \u001b[38;5;129;01mnot\u001b[39;00m _serialization_tls.skip_data:\n",
      "\u001b[36mFile \u001b[39m\u001b[32m~/repos/work/masknmf-toolbox/.venv/lib/python3.12/site-packages/torch/serialization.py:1742\u001b[39m, in \u001b[36m_legacy_load.<locals>.persistent_load\u001b[39m\u001b[34m(saved_id)\u001b[39m\n\u001b[32m   1740\u001b[39m     obj = cast(Storage, torch.UntypedStorage(nbytes))\n\u001b[32m   1741\u001b[39m     obj._torch_load_uninitialized = \u001b[38;5;28;01mTrue\u001b[39;00m\n\u001b[32m-> \u001b[39m\u001b[32m1742\u001b[39m     obj = \u001b[43mrestore_location\u001b[49m\u001b[43m(\u001b[49m\u001b[43mobj\u001b[49m\u001b[43m,\u001b[49m\u001b[43m \u001b[49m\u001b[43mlocation\u001b[49m\u001b[43m)\u001b[49m\n\u001b[32m   1743\u001b[39m \u001b[38;5;66;03m# TODO: Once we decide to break serialization FC, we can\u001b[39;00m\n\u001b[32m   1744\u001b[39m \u001b[38;5;66;03m# stop wrapping with TypedStorage\u001b[39;00m\n\u001b[32m   1745\u001b[39m typed_storage = torch.storage.TypedStorage(\n\u001b[32m   1746\u001b[39m     wrap_storage=obj, dtype=dtype, _internal=\u001b[38;5;28;01mTrue\u001b[39;00m\n\u001b[32m   1747\u001b[39m )\n",
      "\u001b[36mFile \u001b[39m\u001b[32m~/repos/work/masknmf-toolbox/.venv/lib/python3.12/site-packages/torch/serialization.py:698\u001b[39m, in \u001b[36mdefault_restore_location\u001b[39m\u001b[34m(storage, location)\u001b[39m\n\u001b[32m    678\u001b[39m \u001b[38;5;250m\u001b[39m\u001b[33;03m\"\"\"\u001b[39;00m\n\u001b[32m    679\u001b[39m \u001b[33;03mRestores `storage` using a deserializer function registered for the `location`.\u001b[39;00m\n\u001b[32m    680\u001b[39m \n\u001b[32m   (...)\u001b[39m\u001b[32m    695\u001b[39m \u001b[33;03m       all matching ones return `None`.\u001b[39;00m\n\u001b[32m    696\u001b[39m \u001b[33;03m\"\"\"\u001b[39;00m\n\u001b[32m    697\u001b[39m \u001b[38;5;28;01mfor\u001b[39;00m _, _, fn \u001b[38;5;129;01min\u001b[39;00m _package_registry:\n\u001b[32m--> \u001b[39m\u001b[32m698\u001b[39m     result = \u001b[43mfn\u001b[49m\u001b[43m(\u001b[49m\u001b[43mstorage\u001b[49m\u001b[43m,\u001b[49m\u001b[43m \u001b[49m\u001b[43mlocation\u001b[49m\u001b[43m)\u001b[49m\n\u001b[32m    699\u001b[39m     \u001b[38;5;28;01mif\u001b[39;00m result \u001b[38;5;129;01mis\u001b[39;00m \u001b[38;5;129;01mnot\u001b[39;00m \u001b[38;5;28;01mNone\u001b[39;00m:\n\u001b[32m    700\u001b[39m         \u001b[38;5;28;01mreturn\u001b[39;00m result\n",
      "\u001b[36mFile \u001b[39m\u001b[32m~/repos/work/masknmf-toolbox/.venv/lib/python3.12/site-packages/torch/serialization.py:636\u001b[39m, in \u001b[36m_deserialize\u001b[39m\u001b[34m(backend_name, obj, location)\u001b[39m\n\u001b[32m    634\u001b[39m     backend_name = torch._C._get_privateuse1_backend_name()\n\u001b[32m    635\u001b[39m \u001b[38;5;28;01mif\u001b[39;00m location.startswith(backend_name):\n\u001b[32m--> \u001b[39m\u001b[32m636\u001b[39m     device = \u001b[43m_validate_device\u001b[49m\u001b[43m(\u001b[49m\u001b[43mlocation\u001b[49m\u001b[43m,\u001b[49m\u001b[43m \u001b[49m\u001b[43mbackend_name\u001b[49m\u001b[43m)\u001b[49m\n\u001b[32m    637\u001b[39m     \u001b[38;5;28;01mreturn\u001b[39;00m obj.to(device=device)\n",
      "\u001b[36mFile \u001b[39m\u001b[32m~/repos/work/masknmf-toolbox/.venv/lib/python3.12/site-packages/torch/serialization.py:605\u001b[39m, in \u001b[36m_validate_device\u001b[39m\u001b[34m(location, backend_name)\u001b[39m\n\u001b[32m    603\u001b[39m     device_index = device.index \u001b[38;5;28;01mif\u001b[39;00m device.index \u001b[38;5;28;01melse\u001b[39;00m \u001b[32m0\u001b[39m\n\u001b[32m    604\u001b[39m \u001b[38;5;28;01mif\u001b[39;00m \u001b[38;5;28mhasattr\u001b[39m(device_module, \u001b[33m\"\u001b[39m\u001b[33mis_available\u001b[39m\u001b[33m\"\u001b[39m) \u001b[38;5;129;01mand\u001b[39;00m \u001b[38;5;129;01mnot\u001b[39;00m device_module.is_available():\n\u001b[32m--> \u001b[39m\u001b[32m605\u001b[39m     \u001b[38;5;28;01mraise\u001b[39;00m \u001b[38;5;167;01mRuntimeError\u001b[39;00m(\n\u001b[32m    606\u001b[39m         \u001b[33mf\u001b[39m\u001b[33m\"\u001b[39m\u001b[33mAttempting to deserialize object on a \u001b[39m\u001b[38;5;132;01m{\u001b[39;00mbackend_name.upper()\u001b[38;5;132;01m}\u001b[39;00m\u001b[33m \u001b[39m\u001b[33m\"\u001b[39m\n\u001b[32m    607\u001b[39m         \u001b[33mf\u001b[39m\u001b[33m\"\u001b[39m\u001b[33mdevice but torch.\u001b[39m\u001b[38;5;132;01m{\u001b[39;00mbackend_name\u001b[38;5;132;01m}\u001b[39;00m\u001b[33m.is_available() is False. \u001b[39m\u001b[33m\"\u001b[39m\n\u001b[32m    608\u001b[39m         \u001b[33m\"\u001b[39m\u001b[33mIf you are running on a CPU-only machine, \u001b[39m\u001b[33m\"\u001b[39m\n\u001b[32m    609\u001b[39m         \u001b[33m\"\u001b[39m\u001b[33mplease use torch.load with map_location=torch.device(\u001b[39m\u001b[33m'\u001b[39m\u001b[33mcpu\u001b[39m\u001b[33m'\u001b[39m\u001b[33m) \u001b[39m\u001b[33m\"\u001b[39m\n\u001b[32m    610\u001b[39m         \u001b[33m\"\u001b[39m\u001b[33mto map your storages to the CPU.\u001b[39m\u001b[33m\"\u001b[39m\n\u001b[32m    611\u001b[39m     )\n\u001b[32m    612\u001b[39m \u001b[38;5;28;01mif\u001b[39;00m \u001b[38;5;28mhasattr\u001b[39m(device_module, \u001b[33m\"\u001b[39m\u001b[33mdevice_count\u001b[39m\u001b[33m\"\u001b[39m):\n\u001b[32m    613\u001b[39m     device_count = device_module.device_count()\n",
      "\u001b[31mRuntimeError\u001b[39m: Attempting to deserialize object on a CUDA device but torch.cuda.is_available() is False. If you are running on a CPU-only machine, please use torch.load with map_location=torch.device('cpu') to map your storages to the CPU."
     ]
    }
   ],
   "source": [
    "for i, arr in enumerate(arrs):\n",
    "    key = tuple(arr.keys())[0]\n",
    "    array = arr[key]\n",
    "    print(type(array))"
   ]
  },
  {
   "cell_type": "code",
   "execution_count": 25,
   "id": "a501257d-fa78-4394-b516-ab1f82c5502c",
   "metadata": {
    "execution": {
     "iopub.execute_input": "2025-05-20T18:55:39.351826Z",
     "iopub.status.busy": "2025-05-20T18:55:39.351220Z",
     "iopub.status.idle": "2025-05-20T18:55:39.358015Z",
     "shell.execute_reply": "2025-05-20T18:55:39.356881Z",
     "shell.execute_reply.started": "2025-05-20T18:55:39.351780Z"
    }
   },
   "outputs": [],
   "source": [
    "pmd_obj = arrs[0]\n",
    "pmd_obj = pmd_obj"
   ]
  },
  {
   "cell_type": "code",
   "execution_count": null,
   "id": "853918b8-7bc2-4b66-8efa-475ce090ed73",
   "metadata": {},
   "outputs": [],
   "source": [
    "reg_mean = np.mean(data_reg, axis=0)\n",
    "mean_sub = data_reg - reg_mean"
   ]
  }
 ],
 "metadata": {
  "kernelspec": {
   "display_name": "Python 3 (ipykernel)",
   "language": "python",
   "name": "python3"
  },
  "language_info": {
   "codemirror_mode": {
    "name": "ipython",
    "version": 3
   },
   "file_extension": ".py",
   "mimetype": "text/x-python",
   "name": "python",
   "nbconvert_exporter": "python",
   "pygments_lexer": "ipython3",
   "version": "3.12.10"
  }
 },
 "nbformat": 4,
 "nbformat_minor": 5
}
