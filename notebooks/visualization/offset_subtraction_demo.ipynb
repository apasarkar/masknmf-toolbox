{
 "cells": [
  {
   "cell_type": "markdown",
   "id": "9cbd6c70-8359-4f21-add9-6f60beb4a4a5",
   "metadata": {},
   "source": [
    "# It is often very useful to visualize a dataset with some constant offset subtracted from every frame. For example, if we subtract the mean image from every frame, motion artifacts become much more visible. This notebook provides some options for viewing a transformed version of your image stack. "
   ]
  },
  {
   "cell_type": "code",
   "execution_count": 9,
   "id": "49db4303-b80a-454f-966c-89d2bfd74673",
   "metadata": {},
   "outputs": [
    {
     "name": "stdout",
     "output_type": "stream",
     "text": [
      "The autoreload extension is already loaded. To reload it, use:\n",
      "  %reload_ext autoreload\n"
     ]
    }
   ],
   "source": [
    "import masknmf\n",
    "import fastplotlib as fpl\n",
    "import tifffile\n",
    "import torch\n",
    "import numpy as np\n",
    "%load_ext autoreload"
   ]
  },
  {
   "cell_type": "code",
   "execution_count": 53,
   "id": "deee3fc3-6480-46cd-9fc2-a53d2a0c05f8",
   "metadata": {},
   "outputs": [],
   "source": [
    "# Point to your dataset\n",
    "data = tifffile.imread(\"demoMovie.tif\") # Shape (frames, height, width)"
   ]
  },
  {
   "cell_type": "code",
   "execution_count": 54,
   "id": "55ad2170-60a7-47a8-8622-c031261a6d40",
   "metadata": {},
   "outputs": [],
   "source": [
    "# Get the mean image (or any other image you want)\n",
    "mean_img = torch.from_numpy(np.mean(data, axis = 0)) #(Shape (height, width))"
   ]
  },
  {
   "cell_type": "code",
   "execution_count": 55,
   "id": "248ba7bf-5379-4fe8-845a-6e21c1210bec",
   "metadata": {},
   "outputs": [],
   "source": [
    "'''\n",
    "Define the transformation as a function that takes (frames, height, width) torch.tensor as input\n",
    "and outputs a tensor of the same shape\n",
    "'''\n",
    "mean_sub = lambda x:x - mean_img[None, :, :]"
   ]
  },
  {
   "cell_type": "code",
   "execution_count": 56,
   "id": "9d36b15b-8559-48a9-a8ff-ff5b22b457fc",
   "metadata": {},
   "outputs": [],
   "source": [
    "# Define an array object that describes this transformed dataset\n",
    "mean_sub_array = masknmf.FilteredArray(data, \n",
    "                                       mean_sub,\n",
    "                                      device='cpu')"
   ]
  },
  {
   "cell_type": "code",
   "execution_count": 58,
   "id": "8932b3b1-fd2d-4fde-a134-37eeba152f7d",
   "metadata": {},
   "outputs": [],
   "source": [
    "# Visualize this in imagewidget. \n",
    "# Rendering speed depends on whether computations are performed on cpu/gpu and on whether the dataset is in RAM or not\n",
    "iw = fpl.ImageWidget(data = [mean_sub_array, data, mean_img.numpy()],\n",
    "                    names = ['raw - mean', 'raw data', 'mean'],\n",
    "                    figure_shape = (1, 3))\n",
    "iw.cmap = \"gray\"\n",
    "iw.show()"
   ]
  },
  {
   "cell_type": "code",
   "execution_count": null,
   "id": "2fc790d8-d15d-4872-ba74-60532ed5798e",
   "metadata": {},
   "outputs": [],
   "source": []
  }
 ],
 "metadata": {
  "kernelspec": {
   "display_name": "Python 3 (ipykernel)",
   "language": "python",
   "name": "python3"
  },
  "language_info": {
   "codemirror_mode": {
    "name": "ipython",
    "version": 3
   },
   "file_extension": ".py",
   "mimetype": "text/x-python",
   "name": "python",
   "nbconvert_exporter": "python",
   "pygments_lexer": "ipython3",
   "version": "3.11.9"
  }
 },
 "nbformat": 4,
 "nbformat_minor": 5
}
