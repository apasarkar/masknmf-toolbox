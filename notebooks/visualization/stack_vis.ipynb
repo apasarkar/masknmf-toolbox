{
 "cells": [
  {
   "cell_type": "code",
   "execution_count": 1,
   "id": "5e8f8a0f-196c-466d-9e78-11f0e05a7ef8",
   "metadata": {},
   "outputs": [
    {
     "name": "stderr",
     "output_type": "stream",
     "text": [
      "fastplotlib version from git (0.2.0) and __version__ (0.5.0) don't match.\n",
      "No windowing system present. Using surfaceless platform\n",
      "No config found!\n",
      "No config found!\n",
      "Max vertex attribute stride unknown. Assuming it is 2048\n",
      "Max vertex attribute stride unknown. Assuming it is 2048\n",
      "Max vertex attribute stride unknown. Assuming it is 2048\n"
     ]
    },
    {
     "data": {
      "application/vnd.jupyter.widget-view+json": {
       "model_id": "850f5073c0814886a39fb68d6fe35610",
       "version_major": 2,
       "version_minor": 0
      },
      "text/plain": [
       "Image(value=b'\\x89PNG\\r\\n\\x1a\\n\\x00\\x00\\x00\\rIHDR\\x00\\x00\\x01,\\x00\\x00\\x007\\x08\\x06\\x00\\x00\\x00\\xb6\\x1bw\\x99\\x…"
      ]
     },
     "metadata": {},
     "output_type": "display_data"
    },
    {
     "data": {
      "text/html": [
       "<b>Available devices:</b><table><tr><th>Valid</th><th>Device</th><th>Type</th><th>Backend</th><th>Driver</th></tr><tr title=\"This adapter can be used with fastplotlib\"><td>✅ (default) </td><td>NVIDIA TITAN RTX</td><td>DiscreteGPU</td><td>Vulkan</td><td>555.42.02</td></tr><tr title=\"CPU rendering support is limited and mainly for testing purposes\"><td>❗ limited</td><td>llvmpipe (LLVM 12.0.0, 256 bits)</td><td>CPU</td><td>Vulkan</td><td>Mesa 21.2.6 (LLVM 12.0.0)</td></tr><tr title=\"This adapter cannot be used with fastplotlib\"><td>❌</td><td>NVIDIA TITAN RTX/PCIe/SSE2</td><td>Unknown</td><td>OpenGL</td><td>3.3.0 NVIDIA 555.42.02</td></tr></table>"
      ],
      "text/plain": [
       "<IPython.core.display.HTML object>"
      ]
     },
     "metadata": {},
     "output_type": "display_data"
    },
    {
     "name": "stderr",
     "output_type": "stream",
     "text": [
      "Max vertex attribute stride unknown. Assuming it is 2048\n",
      "Max vertex attribute stride unknown. Assuming it is 2048\n"
     ]
    }
   ],
   "source": [
    "import numpy as np\n",
    "import os\n",
    "import masknmf\n",
    "import sys\n",
    "import torch\n",
    "\n",
    "import tifffile\n",
    "import fastplotlib as fpl\n",
    "import matplotlib.pyplot as plt\n",
    "\n",
    "import time\n",
    "from typing import *\n",
    "%matplotlib inline\n",
    "%load_ext autoreload"
   ]
  },
  {
   "cell_type": "code",
   "execution_count": 2,
   "id": "1b9957c3-0c88-410d-9653-1d3d64c615de",
   "metadata": {},
   "outputs": [],
   "source": [
    "# Load the masknmf moco \n",
    "masknmfmoco_file = \"your_file\"\n",
    "data = tifffile.imread(masknmfmoco_file)"
   ]
  },
  {
   "cell_type": "code",
   "execution_count": 3,
   "id": "6f645dc3-55c3-44f8-a43c-106c8fb01fea",
   "metadata": {},
   "outputs": [],
   "source": [
    "full_moco_dense = data"
   ]
  },
  {
   "cell_type": "code",
   "execution_count": 4,
   "id": "1b318e88-2651-47c3-bfdd-47f92f22f90a",
   "metadata": {},
   "outputs": [
    {
     "name": "stdout",
     "output_type": "stream",
     "text": [
      "[25-05-11 06:35:18]: Starting compression\n",
      "[25-05-11 06:35:18]: sampled from the following regions: [0]\n",
      "[25-05-11 06:35:18]: We are initializing on a total of 15957 frames\n",
      "[25-05-11 06:35:19]: Approximating full FOV basis terms\n",
      "[25-05-11 06:35:20]: Loading data to estimate complete spatial basis\n",
      "[25-05-11 06:35:24]: Finding spatiotemporal roughness thresholds\n"
     ]
    },
    {
     "name": "stderr",
     "output_type": "stream",
     "text": [
      "100%|████████████████████████████████████████| 250/250 [00:00<00:00, 252.81it/s]"
     ]
    },
    {
     "name": "stdout",
     "output_type": "stream",
     "text": [
      "[25-05-11 06:35:25]: Running Blockwise Decompositions\n"
     ]
    },
    {
     "name": "stderr",
     "output_type": "stream",
     "text": [
      "\n"
     ]
    },
    {
     "name": "stdout",
     "output_type": "stream",
     "text": [
      "[25-05-11 06:35:46]: Constructed U matrix. Rank of U is 10133\n",
      "[25-05-11 06:35:48]: PMD Objected constructed\n"
     ]
    }
   ],
   "source": [
    "pmd_arr_moco = masknmf.compression.pmd_decomposition(full_moco_dense,\n",
    "                                                [20, 20],\n",
    "                                                full_moco_dense.shape[0],\n",
    "                                                max_components = 20,\n",
    "                                                max_consecutive_failures=3,\n",
    "                                                background_rank = 4,\n",
    "                                               device = \"cuda\",\n",
    "                                               pixel_weighting=None,\n",
    "                                               frame_batch_size = 1024)"
   ]
  },
  {
   "cell_type": "code",
   "execution_count": 5,
   "id": "cb33bb7c-d462-4344-8b3c-8375b48562dd",
   "metadata": {},
   "outputs": [
    {
     "data": {
      "text/plain": [
       "(15957, 328, 524)"
      ]
     },
     "execution_count": 5,
     "metadata": {},
     "output_type": "execute_result"
    }
   ],
   "source": [
    "pmd_arr_moco.shape"
   ]
  },
  {
   "cell_type": "code",
   "execution_count": 6,
   "id": "54151872-c614-413e-b9f1-54e674265d9c",
   "metadata": {},
   "outputs": [],
   "source": [
    "pmd_arr_moco.to('cuda')\n",
    "pmd_arr_moco.rescale = False"
   ]
  },
  {
   "cell_type": "code",
   "execution_count": 7,
   "id": "baa4366d-46ba-40e3-80aa-6f85f89a83b5",
   "metadata": {},
   "outputs": [
    {
     "data": {
      "text/plain": [
       "(15957, 328, 524)"
      ]
     },
     "execution_count": 7,
     "metadata": {},
     "output_type": "execute_result"
    }
   ],
   "source": [
    "full_moco_dense.shape"
   ]
  },
  {
   "cell_type": "code",
   "execution_count": 8,
   "id": "e8996c1d-2459-46c0-8986-cb8702e5167f",
   "metadata": {},
   "outputs": [],
   "source": [
    "from functools import partial\n",
    "from ipywidgets import VBox, HBox\n",
    "from collections import OrderedDict"
   ]
  },
  {
   "cell_type": "code",
   "execution_count": 30,
   "id": "816a1ccb-2b91-4357-979a-1e77f1b17deb",
   "metadata": {},
   "outputs": [
    {
     "data": {
      "application/vnd.jupyter.widget-view+json": {
       "model_id": "45e4c10220bc4de3a0ec504be506778c",
       "version_major": 2,
       "version_minor": 0
      },
      "text/plain": [
       "RFBOutputContext()"
      ]
     },
     "metadata": {},
     "output_type": "display_data"
    },
    {
     "data": {
      "application/vnd.jupyter.widget-view+json": {
       "model_id": "eb26924d797544b4848cbbe484ff3f78",
       "version_major": 2,
       "version_minor": 0
      },
      "text/plain": [
       "RFBOutputContext()"
      ]
     },
     "metadata": {},
     "output_type": "display_data"
    },
    {
     "data": {
      "application/vnd.jupyter.widget-view+json": {
       "model_id": "4f5bd268a5bb4ab39a000bb5ff321122",
       "version_major": 2,
       "version_minor": 0
      },
      "text/plain": [
       "HBox(children=(JupyterRenderCanvas(css_height='300.0px', css_width='500.0px'), JupyterRenderCanvas(css_height=…"
      ]
     },
     "execution_count": 30,
     "metadata": {},
     "output_type": "execute_result"
    }
   ],
   "source": [
    "iw = fpl.ImageWidget(\n",
    "    [full_moco_dense, pmd_arr_moco],\n",
    "    names=[\"mcorr\", \"pmd\"],\n",
    ")\n",
    "\n",
    "mcorr_img = iw.managed_graphics[0]\n",
    "pmd_img = iw.managed_graphics[1]\n",
    "\n",
    "image_graphics = [\n",
    "    mcorr_img,\n",
    "    pmd_img,\n",
    "]\n",
    "\n",
    "fig_temporal = fpl.Figure(shape=(2, 1), names=[\"mcorr\", \"pmd\"])\n",
    "fig_temporal[\"mcorr\"].add_line(np.zeros(full_moco_dense.shape[0]))\n",
    "fig_temporal[\"pmd\"].add_line(np.zeros(pmd_arr_moco.shape[0]))\n",
    "\n",
    "mcorr_selectors = list()\n",
    "pmd_selectors = list()\n",
    "\n",
    "rect_selector_kwargs = dict(\n",
    "    edge_thickness=1, \n",
    "    edge_color=\"w\", \n",
    "    vertex_thickness=3.0, \n",
    "    vertex_color=\"cyan\"\n",
    ")\n",
    "\n",
    "selectors = OrderedDict()\n",
    "\n",
    "for img in image_graphics:\n",
    "    selectors[img] = list()\n",
    "\n",
    "# mcorr_selectors.append(\n",
    "#     mcorr_img.add_rectangle_selector(\n",
    "#         selection=[0, 20, 0, 20],\n",
    "#         **rect_selector_kwargs\n",
    "#     )\n",
    "# )\n",
    "# pmd_selectors.append(\n",
    "#     pmd_img.add_rectangle_selector(\n",
    "#         selection=[0, 20, 0, 20],\n",
    "#         **rect_selector_kwargs\n",
    "#     )\n",
    "# )\n",
    "\n",
    "# selectors = [\n",
    "#     mcorr_selectors,\n",
    "#     pmd_selectors,\n",
    "# ]\n",
    "\n",
    "def rect_selector_moved(selectors_pair: tuple[fpl.RectangleSelector], ev: fpl.GraphicFeatureEvent):\n",
    "    for selector in selectors_pair:\n",
    "        selector.selection = ev.info[\"value\"]\n",
    "    \n",
    "    row_ixs, col_ixs = ev.get_selected_indices()\n",
    "    row_slice = slice(row_ixs[0], row_ixs[-1] + 1)\n",
    "    col_slice = slice(col_ixs[0], col_ixs[-1] + 1)\n",
    "\n",
    "    mcorr_temporal = full_moco_dense[:, row_slice, col_slice].mean(axis=(1, 2)).ravel()\n",
    "    pmd_temporal = pmd_arr_moco[:, row_slice, col_slice].mean(axis=(1, 2)).ravel()\n",
    "\n",
    "    fig_temporal[\"mcorr\"].graphics[0].data[:, 1] = mcorr_temporal\n",
    "    fig_temporal[\"pmd\"].graphics[0].data[:, 1] = pmd_temporal\n",
    "\n",
    "    for subplot in fig_temporal:\n",
    "        subplot.auto_scale()\n",
    "\n",
    "# for pair in zip(*selectors):\n",
    "#     for sel in pair:\n",
    "#         sel.add_event_handler(partial(rect_selector_moved, pair), \"selection\")\n",
    "\n",
    "HBox([iw.show(), fig_temporal.show(maintain_aspect=False)])"
   ]
  },
  {
   "cell_type": "code",
   "execution_count": 31,
   "id": "83d71a92-7886-4404-aa6c-b5574316fc50",
   "metadata": {},
   "outputs": [],
   "source": [
    "import pygfx"
   ]
  },
  {
   "cell_type": "code",
   "execution_count": 32,
   "id": "eb931193-3586-4aba-9303-7916bae5e811",
   "metadata": {},
   "outputs": [],
   "source": [
    "RESIZING_NEW_RECT = False\n",
    "\n",
    "\n",
    "def add_rectangle(ev: pygfx.PointerEvent):\n",
    "    global RESIZING_NEW_RECT\n",
    "    \n",
    "    if ev.button != 1:\n",
    "        return\n",
    "\n",
    "    for subplot in iw.figure:\n",
    "        subplot.controller.enabled = False\n",
    "        \n",
    "    # in world space\n",
    "    x, y = ev.pick_info[\"index\"]\n",
    "\n",
    "    new_selectors = list()\n",
    "    \n",
    "    for img in image_graphics:\n",
    "        new_selector = img.add_rectangle_selector(\n",
    "            selection=[x, x + 1, y, y + 1],\n",
    "            **rect_selector_kwargs\n",
    "        )\n",
    "\n",
    "        selectors[img].append(new_selector)\n",
    "        new_selectors.append(new_selector)\n",
    "\n",
    "    for sel in new_selectors:\n",
    "        sel.add_event_handler(partial(rect_selector_moved, new_selectors), \"selection\")\n",
    "\n",
    "    RESIZING_NEW_RECT = True\n",
    "\n",
    "\n",
    "for img in image_graphics:\n",
    "    img.add_event_handler(add_rectangle, \"pointer_down\")\n",
    "\n",
    "\n",
    "@iw.figure.renderer.add_event_handler(\"pointer_move\")\n",
    "def resize_rect(ev: pygfx.PointerEvent):\n",
    "    global RESIZING_NEW_RECT\n",
    "    \n",
    "    if not RESIZING_NEW_RECT:\n",
    "        return\n",
    "\n",
    "    img = image_graphics[0]\n",
    "\n",
    "    for subplot in iw.figure:\n",
    "        # world (x, y)\n",
    "        pos = subplot.map_screen_to_world(ev)\n",
    "        if pos is None:\n",
    "            continue\n",
    "        else:\n",
    "            break\n",
    "\n",
    "    if pos is None:\n",
    "        # if pointer was moved outside the subplot\n",
    "        RESIZING_NEW_RECT = False\n",
    "        return\n",
    "\n",
    "    x2, y2, _ = pos\n",
    "\n",
    "    # most recently added selector\n",
    "    x1, _, y1, _ = selectors[img][-1].selection\n",
    "    \n",
    "    selectors[img][-1].selection = [x1, x2, y1, y2]\n",
    "\n",
    "\n",
    "@iw.figure.renderer.add_event_handler(\"pointer_up\")\n",
    "def end_resize(ev: pygfx.PointerEvent):\n",
    "    global RESIZING_NEW_RECT\n",
    "    \n",
    "    if ev.button != 1:\n",
    "        return\n",
    "    if not RESIZING_NEW_RECT:\n",
    "        return\n",
    "\n",
    "    for subplot in iw.figure:\n",
    "        subplot.controller.enabled = True\n",
    "    \n",
    "    RESIZING_NEW_RECT = False"
   ]
  },
  {
   "cell_type": "raw",
   "id": "7ef0e6b2-78a1-498c-9dac-370c55d75cb3",
   "metadata": {},
   "source": []
  }
 ],
 "metadata": {
  "kernelspec": {
   "display_name": "Python 3 (ipykernel)",
   "language": "python",
   "name": "python3"
  },
  "language_info": {
   "codemirror_mode": {
    "name": "ipython",
    "version": 3
   },
   "file_extension": ".py",
   "mimetype": "text/x-python",
   "name": "python",
   "nbconvert_exporter": "python",
   "pygments_lexer": "ipython3",
   "version": "3.11.9"
  }
 },
 "nbformat": 4,
 "nbformat_minor": 5
}
