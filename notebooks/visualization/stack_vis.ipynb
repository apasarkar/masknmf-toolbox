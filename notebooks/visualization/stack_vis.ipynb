{
 "cells": [
  {
   "cell_type": "code",
   "execution_count": 1,
   "id": "5e8f8a0f-196c-466d-9e78-11f0e05a7ef8",
   "metadata": {},
   "outputs": [
    {
     "name": "stderr",
     "output_type": "stream",
     "text": [
      "fastplotlib version from git (0.2.0) and __version__ (0.5.0) don't match.\n",
      "No windowing system present. Using surfaceless platform\n",
      "No config found!\n",
      "No config found!\n",
      "Max vertex attribute stride unknown. Assuming it is 2048\n",
      "Max vertex attribute stride unknown. Assuming it is 2048\n",
      "Max vertex attribute stride unknown. Assuming it is 2048\n"
     ]
    },
    {
     "data": {
      "application/vnd.jupyter.widget-view+json": {
       "model_id": "22756a05154a4505baafd6ef895d43e5",
       "version_major": 2,
       "version_minor": 0
      },
      "text/plain": [
       "Image(value=b'\\x89PNG\\r\\n\\x1a\\n\\x00\\x00\\x00\\rIHDR\\x00\\x00\\x01,\\x00\\x00\\x007\\x08\\x06\\x00\\x00\\x00\\xb6\\x1bw\\x99\\x…"
      ]
     },
     "metadata": {},
     "output_type": "display_data"
    },
    {
     "data": {
      "text/html": [
       "<b>Available devices:</b><table><tr><th>Valid</th><th>Device</th><th>Type</th><th>Backend</th><th>Driver</th></tr><tr title=\"This adapter can be used with fastplotlib\"><td>✅ (default) </td><td>NVIDIA TITAN RTX</td><td>DiscreteGPU</td><td>Vulkan</td><td>555.42.02</td></tr><tr title=\"CPU rendering support is limited and mainly for testing purposes\"><td>❗ limited</td><td>llvmpipe (LLVM 12.0.0, 256 bits)</td><td>CPU</td><td>Vulkan</td><td>Mesa 21.2.6 (LLVM 12.0.0)</td></tr><tr title=\"This adapter cannot be used with fastplotlib\"><td>❌</td><td>NVIDIA TITAN RTX/PCIe/SSE2</td><td>Unknown</td><td>OpenGL</td><td>3.3.0 NVIDIA 555.42.02</td></tr></table>"
      ],
      "text/plain": [
       "<IPython.core.display.HTML object>"
      ]
     },
     "metadata": {},
     "output_type": "display_data"
    },
    {
     "name": "stderr",
     "output_type": "stream",
     "text": [
      "Max vertex attribute stride unknown. Assuming it is 2048\n",
      "Max vertex attribute stride unknown. Assuming it is 2048\n"
     ]
    }
   ],
   "source": [
    "import numpy as np\n",
    "import os\n",
    "import masknmf\n",
    "import sys\n",
    "import torch\n",
    "\n",
    "import tifffile\n",
    "import fastplotlib as fpl\n",
    "from imgui_bundle import imgui\n",
    "from fastplotlib import ui\n",
    "\n",
    "import matplotlib.pyplot as plt\n",
    "\n",
    "import time\n",
    "from typing import *\n",
    "%matplotlib inline\n",
    "%load_ext autoreload"
   ]
  },
  {
   "cell_type": "code",
   "execution_count": 2,
   "id": "1b9957c3-0c88-410d-9653-1d3d64c615de",
   "metadata": {},
   "outputs": [],
   "source": [
    "# Load the masknmf moco \n",
    "masknmfmoco_file = \"demoMovie.tif\"\n",
    "data = tifffile.imread(masknmfmoco_file)"
   ]
  },
  {
   "cell_type": "code",
   "execution_count": 4,
   "id": "186c256f-f444-4342-ac48-3f70d4ec52ee",
   "metadata": {},
   "outputs": [
    {
     "data": {
      "application/vnd.jupyter.widget-view+json": {
       "model_id": "ac764d4c3e6c42a88d4f62e5c7b24512",
       "version_major": 2,
       "version_minor": 0
      },
      "text/plain": [
       "RFBOutputContext()"
      ]
     },
     "metadata": {},
     "output_type": "display_data"
    },
    {
     "name": "stderr",
     "output_type": "stream",
     "text": [
      "Max vertex attribute stride unknown. Assuming it is 2048\n",
      "/data/home/app2139/fastplotlib/fastplotlib/graphics/features/_base.py:18: UserWarning: casting float64 array to float32\n",
      "  warn(f\"casting {array.dtype} array to float32\")\n"
     ]
    },
    {
     "data": {
      "application/vnd.jupyter.widget-view+json": {
       "model_id": "2d0247a7ca264b4ca581bbdf3719a383",
       "version_major": 2,
       "version_minor": 0
      },
      "text/html": [
       "<div class='snapshot-2d0247a7ca264b4ca581bbdf3719a383' style='position:relative;'><img src='data:image/png;base64,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' style='width:500.0px;height:300.0px;' /><div style='position: absolute; top:0; left:0; padding:1px 3px; background: #777; color:#fff; font-size: 90%; font-family:sans-serif; '>snapshot</div></div>"
      ],
      "text/plain": [
       "JupyterRenderCanvas(css_height='300.0px', css_width='500.0px')"
      ]
     },
     "execution_count": 4,
     "metadata": {},
     "output_type": "execute_result"
    }
   ],
   "source": [
    "iw = fpl.ImageWidget(data = data)\n",
    "iw.cmap = \"gray\"\n",
    "iw.show()"
   ]
  },
  {
   "cell_type": "code",
   "execution_count": 3,
   "id": "6f645dc3-55c3-44f8-a43c-106c8fb01fea",
   "metadata": {},
   "outputs": [],
   "source": [
    "full_moco_dense = data"
   ]
  },
  {
   "cell_type": "code",
   "execution_count": 4,
   "id": "1b318e88-2651-47c3-bfdd-47f92f22f90a",
   "metadata": {},
   "outputs": [
    {
     "name": "stdout",
     "output_type": "stream",
     "text": [
      "[25-05-15 12:20:35]: Starting compression\n",
      "[25-05-15 12:20:35]: sampled from the following regions: [0]\n",
      "[25-05-15 12:20:35]: We are initializing on a total of 2000 frames\n",
      "[25-05-15 12:20:36]: Approximating full FOV basis terms\n",
      "[25-05-15 12:20:36]: Loading data to estimate complete spatial basis\n",
      "[25-05-15 12:20:36]: Finding spatiotemporal roughness thresholds\n"
     ]
    },
    {
     "name": "stderr",
     "output_type": "stream",
     "text": [
      "100%|████████████████████████████████████████████████████████████████████████████████████████████████████████████████████████████████████████████████████████████████████████████████████████████████████████████████████████████████████████| 250/250 [00:00<00:00, 279.68it/s]"
     ]
    },
    {
     "name": "stdout",
     "output_type": "stream",
     "text": [
      "[25-05-15 12:20:37]: Running Blockwise Decompositions\n"
     ]
    },
    {
     "name": "stderr",
     "output_type": "stream",
     "text": [
      "\n"
     ]
    },
    {
     "name": "stdout",
     "output_type": "stream",
     "text": [
      "[25-05-15 12:20:37]: Constructed U matrix. Rank of U is 704\n",
      "[25-05-15 12:20:37]: PMD Objected constructed\n"
     ]
    }
   ],
   "source": [
    "pmd_arr_moco = masknmf.compression.pmd_decomposition(full_moco_dense,\n",
    "                                                [20, 20],\n",
    "                                                full_moco_dense.shape[0],\n",
    "                                                max_components = 20,\n",
    "                                                max_consecutive_failures=3,\n",
    "                                                background_rank = 4,\n",
    "                                               device = \"cuda\",\n",
    "                                               pixel_weighting=None,\n",
    "                                               frame_batch_size = 1024)"
   ]
  },
  {
   "cell_type": "code",
   "execution_count": 5,
   "id": "54151872-c614-413e-b9f1-54e674265d9c",
   "metadata": {},
   "outputs": [],
   "source": [
    "pmd_arr_moco.to('cuda')\n",
    "pmd_arr_moco.rescale = False"
   ]
  },
  {
   "cell_type": "code",
   "execution_count": 9,
   "id": "baa4366d-46ba-40e3-80aa-6f85f89a83b5",
   "metadata": {},
   "outputs": [
    {
     "data": {
      "text/plain": [
       "(2000, 60, 80)"
      ]
     },
     "execution_count": 9,
     "metadata": {},
     "output_type": "execute_result"
    }
   ],
   "source": [
    "full_moco_dense.shape"
   ]
  },
  {
   "cell_type": "code",
   "execution_count": 5,
   "id": "e8996c1d-2459-46c0-8986-cb8702e5167f",
   "metadata": {},
   "outputs": [],
   "source": [
    "from functools import partial\n",
    "from ipywidgets import VBox, HBox\n",
    "from collections import OrderedDict\n",
    "import pygfx"
   ]
  },
  {
   "cell_type": "code",
   "execution_count": null,
   "id": "acf0241e-9adb-4eee-9477-25b7327c3c5f",
   "metadata": {},
   "outputs": [],
   "source": [
    "iw = fpl.ImageWidget(\n",
    "    [full_moco_dense, pmd_arr_moco],\n",
    "    names=[\"mcorr\", \"pmd\"],\n",
    ")\n",
    "\n",
    "mcorr_img = iw.managed_graphics[0]\n",
    "pmd_img = iw.managed_graphics[1]\n",
    "\n",
    "image_graphics = [\n",
    "    mcorr_img,\n",
    "    pmd_img,\n",
    "]\n",
    "\n",
    "fig_temporal = fpl.Figure(shape=(1, 2), names=[\"mcorr\", \"pmd\"])\n",
    "fig_temporal[\"mcorr\"].add_line(np.zeros(full_moco_dense.shape[0]))\n",
    "fig_temporal[\"pmd\"].add_line(np.zeros(pmd_arr_moco.shape[0]))\n",
    "\n",
    "mcorr_selectors = list()\n",
    "pmd_selectors = list()\n",
    "\n",
    "rect_selector_kwargs = dict(\n",
    "    edge_thickness=1, \n",
    "    edge_color=\"w\", \n",
    "    vertex_thickness=3.0, \n",
    "    vertex_color=\"cyan\"\n",
    ")\n",
    "\n",
    "selectors = OrderedDict()\n",
    "\n",
    "for img in image_graphics:\n",
    "    selectors[img] = list()\n",
    "\n",
    "# mcorr_selectors.append(\n",
    "#     mcorr_img.add_rectangle_selector(\n",
    "#         selection=[0, 20, 0, 20],\n",
    "#         **rect_selector_kwargs\n",
    "#     )\n",
    "# )\n",
    "# pmd_selectors.append(\n",
    "#     pmd_img.add_rectangle_selector(\n",
    "#         selection=[0, 20, 0, 20],\n",
    "#         **rect_selector_kwargs\n",
    "#     )\n",
    "# )\n",
    "\n",
    "# selectors = [\n",
    "#     mcorr_selectors,\n",
    "#     pmd_selectors,\n",
    "# ]\n",
    "\n",
    "def rect_selector_moved(selectors_pair: tuple[fpl.RectangleSelector], ev: fpl.GraphicFeatureEvent):\n",
    "    for selector in selectors_pair:\n",
    "        selector.selection = ev.info[\"value\"]\n",
    "    \n",
    "    row_ixs, col_ixs = ev.get_selected_indices()\n",
    "    row_slice = slice(row_ixs[0], row_ixs[-1] + 1)\n",
    "    col_slice = slice(col_ixs[0], col_ixs[-1] + 1)\n",
    "\n",
    "    mcorr_temporal = full_moco_dense[:, row_slice, col_slice].mean(axis=(1, 2)).ravel()\n",
    "    pmd_temporal = pmd_arr_moco[:, row_slice, col_slice].mean(axis=(1, 2)).ravel()\n",
    "\n",
    "    fig_temporal[\"mcorr\"].graphics[0].data[:, 1] = mcorr_temporal\n",
    "    fig_temporal[\"pmd\"].graphics[0].data[:, 1] = pmd_temporal\n",
    "\n",
    "    for subplot in fig_temporal:\n",
    "        subplot.auto_scale()\n",
    "\n",
    "# for pair in zip(*selectors):\n",
    "#     for sel in pair:\n",
    "#         sel.add_event_handler(partial(rect_selector_moved, pair), \"selection\")\n",
    "\n",
    "class ROIManager(ui.EdgeWindow):\n",
    "    def __init__(self, figure, size):\n",
    "        super().__init__(\n",
    "            figure=figure,\n",
    "            size=size,\n",
    "            location=\"right\",\n",
    "            title=\"ROI Selector\"\n",
    "        )\n",
    "\n",
    "        self.add_rois_mode = False\n",
    "\n",
    "    def update(self):\n",
    "        _, self.add_rois_mode = imgui.checkbox(\"Add ROI\", self.add_rois_mode)\n",
    "\n",
    "roi_manager = ROIManager(iw.figure, size=100)\n",
    "iw.figure.add_gui(roi_manager)\n",
    "\n",
    "RESIZING_NEW_RECT = False\n",
    "\n",
    "\n",
    "def add_rectangle(ev: pygfx.PointerEvent):\n",
    "    global RESIZING_NEW_RECT\n",
    "\n",
    "    if not roi_manager.add_rois_mode:\n",
    "        return\n",
    "    \n",
    "    if ev.button != 1:\n",
    "        return\n",
    "\n",
    "    for subplot in iw.figure:\n",
    "        subplot.controller.enabled = False\n",
    "        \n",
    "    # in world space\n",
    "    x, y = ev.pick_info[\"index\"]\n",
    "\n",
    "    new_selectors = list()\n",
    "    \n",
    "    for subplot in iw.figure:\n",
    "        if len(subplot.graphics) < 1:\n",
    "            continue  # empty subplot\n",
    "            \n",
    "        img = subplot[\"image_widget_managed\"]\n",
    "        new_selector = img.add_rectangle_selector(\n",
    "            selection=[x, x + 1, y, y + 1],\n",
    "            **rect_selector_kwargs\n",
    "        )\n",
    "    \n",
    "        if len(selectors[img]) > 0:\n",
    "            old_selector = selectors[img].pop()\n",
    "            subplot.remove_graphic(old_selector)\n",
    "            \n",
    "        selectors[img].append(new_selector)\n",
    "        new_selectors.append(new_selector)\n",
    "\n",
    "    for sel in new_selectors:\n",
    "        sel.add_event_handler(partial(rect_selector_moved, new_selectors), \"selection\")\n",
    "\n",
    "    RESIZING_NEW_RECT = True\n",
    "\n",
    "\n",
    "for img in image_graphics:\n",
    "    img.add_event_handler(add_rectangle, \"pointer_down\")\n",
    "\n",
    "\n",
    "@iw.figure.renderer.add_event_handler(\"pointer_move\")\n",
    "def resize_rect(ev: pygfx.PointerEvent):\n",
    "    global RESIZING_NEW_RECT\n",
    "    \n",
    "    if not RESIZING_NEW_RECT:\n",
    "        return\n",
    "\n",
    "    img = image_graphics[0]\n",
    "\n",
    "    for subplot in iw.figure:\n",
    "        # world (x, y)\n",
    "        pos = subplot.map_screen_to_world(ev)\n",
    "        if pos is None:\n",
    "            continue\n",
    "        else:\n",
    "            break\n",
    "\n",
    "    if pos is None:\n",
    "        # if pointer was moved outside the subplot\n",
    "        RESIZING_NEW_RECT = False\n",
    "        return\n",
    "\n",
    "    x2, y2, _ = pos\n",
    "\n",
    "    # most recently added selector\n",
    "    x1, _, y1, _ = selectors[img][-1].selection\n",
    "    \n",
    "    selectors[img][-1].selection = [x1, x2, y1, y2]\n",
    "\n",
    "\n",
    "@iw.figure.renderer.add_event_handler(\"pointer_up\")\n",
    "def end_resize(ev: pygfx.PointerEvent):\n",
    "    global RESIZING_NEW_RECT\n",
    "    \n",
    "    if ev.button != 1:\n",
    "        return\n",
    "    if not RESIZING_NEW_RECT:\n",
    "        return\n",
    "\n",
    "    for subplot in iw.figure:\n",
    "        subplot.controller.enabled = True\n",
    "    \n",
    "    RESIZING_NEW_RECT = False\n",
    "\n",
    "\n",
    "HBox([iw.show(), fig_temporal.show(maintain_aspect=False)])"
   ]
  },
  {
   "cell_type": "code",
   "execution_count": 23,
   "id": "d2a4503e-827c-452b-ae2f-9c238c36b7c6",
   "metadata": {},
   "outputs": [],
   "source": [
    "class ROIManager(ui.EdgeWindow):\n",
    "    def __init__(self, figure, size):\n",
    "        super().__init__(\n",
    "            figure=figure,\n",
    "            size=size,\n",
    "            location=\"right\",\n",
    "            title=\"ROI Selector\"\n",
    "        )\n",
    "        self.add_rois_mode = False\n",
    "\n",
    "    def update(self):\n",
    "        _, self.add_rois_mode = imgui.checkbox(\"Add ROI\", self.add_rois_mode)\n",
    "\n",
    "\n",
    "class PMDWidget:\n",
    "    def __init__(self, comparison_stack: masknmf.arrays.FactorizedVideo, pmd_stack: masknmf.PMDArray):\n",
    "        self._comparison_stack = comparison_stack\n",
    "        self._pmd_stack = pmd_stack\n",
    "        self._iw = fpl.ImageWidget([self.comparison_stack, self.pmd_stack],\n",
    "                                   names=[\"mcorr\", \"pmd\"],\n",
    "                                 )\n",
    "\n",
    "        mcorr_img = self.iw.managed_graphics[0]\n",
    "        pmd_img = self.iw.managed_graphics[1]\n",
    "  \n",
    "        self.image_graphics = [\n",
    "            mcorr_img,\n",
    "            pmd_img,\n",
    "        ]\n",
    "\n",
    "        self._fig_temporal = fpl.Figure(shape=(3, 1), names=[\"mcorr\", \"pmd\", \"residual\"])\n",
    "        self.fig_temporal[\"mcorr\"].add_line(np.zeros(self.pmd_stack.shape[0]))\n",
    "        self.fig_temporal[\"pmd\"].add_line(np.zeros(self.pmd_stack.shape[0]))\n",
    "        self.fig_temporal[\"residual\"].add_line(np.zeros(self.pmd_stack.shape[0]))\n",
    " \n",
    "        for subplot in self.fig_temporal:\n",
    "            subplot.toolbar = False\n",
    "\n",
    "        \n",
    "        self._mcorr_selectors = list()\n",
    "        self._pmd_selectors = list()\n",
    "        self._residual_selectors = list()\n",
    "        \n",
    "        self.rect_selector_kwargs = dict(\n",
    "            edge_thickness=1, \n",
    "            edge_color=\"w\", \n",
    "            vertex_thickness=3.0, \n",
    "            vertex_color=\"cyan\"\n",
    "        )\n",
    "        \n",
    "        self.selectors = OrderedDict()\n",
    "        \n",
    "        for img in self.image_graphics:\n",
    "            self.selectors[img] = list()\n",
    "\n",
    "        self.roi_manager = ROIManager(self.iw.figure, size=100)\n",
    "        self.iw.figure.add_gui(self.roi_manager)\n",
    "        \n",
    "        self.RESIZING_NEW_RECT = False\n",
    "    \n",
    "            \n",
    "        for img in self.image_graphics:\n",
    "            img.add_event_handler(self.add_rectangle, \"pointer_down\")\n",
    "\n",
    "        self.iw.figure.renderer.add_event_handler(self.resize_rect, \"pointer_move\")\n",
    "        self.iw.figure.renderer.add_event_handler(self.end_resize, \"pointer_up\")\n",
    "\n",
    "\n",
    "    \n",
    "    @property\n",
    "    def comparison_stack(self):\n",
    "        return self._comparison_stack\n",
    "\n",
    "    @property\n",
    "    def pmd_stack(self):\n",
    "        return self._pmd_stack\n",
    "\n",
    "    @property\n",
    "    def iw(self):\n",
    "        return self._iw\n",
    "\n",
    "    @property\n",
    "    def fig_temporal(self):\n",
    "        return self._fig_temporal\n",
    "\n",
    "        \n",
    "    def rect_selector_moved(self, selectors_pair: tuple[fpl.RectangleSelector], ev: fpl.GraphicFeatureEvent):\n",
    "        for selector in selectors_pair:\n",
    "            selector.selection = ev.info[\"value\"]\n",
    "        \n",
    "        row_ixs, col_ixs = ev.get_selected_indices()\n",
    "        row_slice = slice(row_ixs[0], row_ixs[-1] + 1)\n",
    "        col_slice = slice(col_ixs[0], col_ixs[-1] + 1)\n",
    "\n",
    "        mcorr_temporal = self.comparison_stack[:, row_slice, col_slice].mean(axis=(1, 2))\n",
    "        pmd_temporal = self.pmd_stack[:, row_slice, col_slice].mean(axis=(1, 2))\n",
    "        residual_temporal = mcorr_temporal - pmd_temporal\n",
    "\n",
    "    \n",
    "        self.fig_temporal[\"mcorr\"].graphics[0].data[:, 1] = mcorr_temporal\n",
    "        self.fig_temporal[\"pmd\"].graphics[0].data[:, 1] = pmd_temporal\n",
    "        self.fig_temporal[\"residual\"].graphics[0].data[:,1] = residual_temporal\n",
    "    \n",
    "        for subplot in self.fig_temporal:\n",
    "            subplot.auto_scale()\n",
    "        \n",
    "    def add_rectangle(self, ev: pygfx.PointerEvent):\n",
    "    \n",
    "        if not self.roi_manager.add_rois_mode:\n",
    "            return\n",
    "        \n",
    "        if ev.button != 1:\n",
    "            return\n",
    "    \n",
    "        for subplot in self.iw.figure:\n",
    "            subplot.controller.enabled = False\n",
    "            \n",
    "        # in world space\n",
    "        x, y = ev.pick_info[\"index\"]\n",
    "    \n",
    "        new_selectors = list()\n",
    "        \n",
    "        for subplot in self.iw.figure:\n",
    "            if len(subplot.graphics) < 1:\n",
    "                continue  # empty subplot\n",
    "                \n",
    "            img = subplot[\"image_widget_managed\"]\n",
    "            new_selector = img.add_rectangle_selector(\n",
    "                selection=[x, x + 1, y, y + 1],\n",
    "                **self.rect_selector_kwargs\n",
    "            )\n",
    "        \n",
    "            if len(self.selectors[img]) > 0:\n",
    "                old_selector = self.selectors[img].pop()\n",
    "                subplot.remove_graphic(old_selector)\n",
    "                \n",
    "            self.selectors[img].append(new_selector)\n",
    "            new_selectors.append(new_selector)\n",
    "    \n",
    "        for sel in new_selectors:\n",
    "            sel.add_event_handler(partial(self.rect_selector_moved, new_selectors), \"selection\")\n",
    "    \n",
    "        self.RESIZING_NEW_RECT = True\n",
    "\n",
    "\n",
    "    def resize_rect(self, ev: pygfx.PointerEvent):\n",
    "        if not self.RESIZING_NEW_RECT:\n",
    "            return\n",
    "    \n",
    "        img = self.image_graphics[0]\n",
    "    \n",
    "        for subplot in self.iw.figure:\n",
    "            # world (x, y)\n",
    "            pos = subplot.map_screen_to_world(ev)\n",
    "            if pos is None:\n",
    "                continue\n",
    "            else:\n",
    "                break\n",
    "    \n",
    "        if pos is None:\n",
    "            # if pointer was moved outside the subplot\n",
    "            self.RESIZING_NEW_RECT = False\n",
    "            return\n",
    "    \n",
    "        x2, y2, _ = pos\n",
    "    \n",
    "        # most recently added selector\n",
    "        x1, _, y1, _ = self.selectors[img][-1].selection\n",
    "        \n",
    "        self.selectors[img][-1].selection = [x1, x2, y1, y2]\n",
    "\n",
    "    def end_resize(self, ev: pygfx.PointerEvent):\n",
    "        if ev.button != 1:\n",
    "            return\n",
    "        if not self.RESIZING_NEW_RECT:\n",
    "            return\n",
    "    \n",
    "        for subplot in self.iw.figure:\n",
    "            subplot.controller.enabled = True\n",
    "        \n",
    "        self.RESIZING_NEW_RECT = False\n",
    "\n",
    "    def show(self):\n",
    "        return VBox([self.iw.show(), self.fig_temporal.show(maintain_aspect=False)])\n",
    "\n",
    "\n",
    "\n"
   ]
  },
  {
   "cell_type": "code",
   "execution_count": 24,
   "id": "eef42f41-275f-47d8-8b65-3cffe9ccad02",
   "metadata": {},
   "outputs": [
    {
     "data": {
      "application/vnd.jupyter.widget-view+json": {
       "model_id": "ad50857a0121430ea7178acd73f6975b",
       "version_major": 2,
       "version_minor": 0
      },
      "text/plain": [
       "RFBOutputContext()"
      ]
     },
     "metadata": {},
     "output_type": "display_data"
    },
    {
     "data": {
      "application/vnd.jupyter.widget-view+json": {
       "model_id": "06a6a79a20854f6b82306175a8de221e",
       "version_major": 2,
       "version_minor": 0
      },
      "text/plain": [
       "RFBOutputContext()"
      ]
     },
     "metadata": {},
     "output_type": "display_data"
    },
    {
     "data": {
      "application/vnd.jupyter.widget-view+json": {
       "model_id": "7806ec7205c0447591c7113e0326d76a",
       "version_major": 2,
       "version_minor": 0
      },
      "text/plain": [
       "VBox(children=(JupyterRenderCanvas(css_height='300.0px', css_width='500.0px'), JupyterRenderCanvas(css_height=…"
      ]
     },
     "execution_count": 24,
     "metadata": {},
     "output_type": "execute_result"
    },
    {
     "name": "stderr",
     "output_type": "stream",
     "text": [
      "Error during handling selection event: axis 1 is out of bounds for ar… (55)\n",
      "Error during handling selection event: axis 1 is out of bounds for ar… (56)\n",
      "Error during handling selection event: axis 2 is out of bounds for ar… (23)\n",
      "Error during handling selection event: axis 2 is out of bounds for ar… (24)\n",
      "Error during handling selection event: axis 2 is out of bounds for ar… (25)\n",
      "Error during handling selection event: axis 2 is out of bounds for ar… (26)\n"
     ]
    }
   ],
   "source": [
    "my_pmdwidget = PMDWidget(full_moco_dense, pmd_arr_moco)\n",
    "my_pmdwidget.show()"
   ]
  },
  {
   "cell_type": "code",
   "execution_count": 24,
   "id": "816a1ccb-2b91-4357-979a-1e77f1b17deb",
   "metadata": {},
   "outputs": [
    {
     "data": {
      "application/vnd.jupyter.widget-view+json": {
       "model_id": "b155cee9474840c19123a79c1c1b8d65",
       "version_major": 2,
       "version_minor": 0
      },
      "text/plain": [
       "RFBOutputContext()"
      ]
     },
     "metadata": {},
     "output_type": "display_data"
    },
    {
     "name": "stderr",
     "output_type": "stream",
     "text": [
      "/data/home/app2139/fastplotlib/fastplotlib/graphics/features/_base.py:18: UserWarning: casting float64 array to float32\n",
      "  warn(f\"casting {array.dtype} array to float32\")\n"
     ]
    },
    {
     "data": {
      "application/vnd.jupyter.widget-view+json": {
       "model_id": "2e4e747e0f4547a5b3e0e2bfa320ddac",
       "version_major": 2,
       "version_minor": 0
      },
      "text/plain": [
       "RFBOutputContext()"
      ]
     },
     "metadata": {},
     "output_type": "display_data"
    },
    {
     "data": {
      "application/vnd.jupyter.widget-view+json": {
       "model_id": "188dbd819f6b46d69699992472a11ab3",
       "version_major": 2,
       "version_minor": 0
      },
      "text/plain": [
       "VBox(children=(JupyterRenderCanvas(css_height='300.0px', css_width='500.0px'), JupyterRenderCanvas(css_height=…"
      ]
     },
     "execution_count": 24,
     "metadata": {},
     "output_type": "execute_result"
    },
    {
     "name": "stderr",
     "output_type": "stream",
     "text": [
      "Error during handling selection event: axis 1 is out of bounds for ar… (3)\n",
      "Error during handling selection event: axis 1 is out of bounds for ar… (4)\n",
      "Error during handling selection event: axis 2 is out of bounds for ar… (11)\n",
      "Error during handling selection event: axis 2 is out of bounds for ar… (12)\n",
      "Error during handling selection event: axis 2 is out of bounds for ar… (13)\n",
      "Error during handling selection event: axis 2 is out of bounds for ar… (14)\n"
     ]
    }
   ],
   "source": [
    "iw = fpl.ImageWidget(\n",
    "    [full_moco_dense, pmd_arr_moco],\n",
    "    names=[\"mcorr\", \"pmd\"],\n",
    ")\n",
    "\n",
    "mcorr_img = iw.managed_graphics[0]\n",
    "pmd_img = iw.managed_graphics[1]\n",
    "\n",
    "image_graphics = [\n",
    "    mcorr_img,\n",
    "    pmd_img,\n",
    "]\n",
    "\n",
    "fig_temporal = fpl.Figure(shape=(3, 1), names=[\"mcorr\", \"pmd\", \"residual\"])\n",
    "fig_temporal[\"mcorr\"].add_line(np.zeros(full_moco_dense.shape[0]))\n",
    "fig_temporal[\"pmd\"].add_line(np.zeros(pmd_arr_moco.shape[0]))\n",
    "fig_temporal[\"residual\"].add_line(np.zeros(pmd_arr_moco.shape[0]))\n",
    "\n",
    "for subplot in fig_temporal:\n",
    "    subplot.toolbar = False\n",
    "\n",
    "mcorr_selectors = list()\n",
    "pmd_selectors = list()\n",
    "residual_selectors = list()\n",
    "\n",
    "rect_selector_kwargs = dict(\n",
    "    edge_thickness=1, \n",
    "    edge_color=\"w\", \n",
    "    vertex_thickness=3.0, \n",
    "    vertex_color=\"cyan\"\n",
    ")\n",
    "\n",
    "selectors = OrderedDict()\n",
    "\n",
    "for img in image_graphics:\n",
    "    selectors[img] = list()\n",
    "\n",
    "\n",
    "def rect_selector_moved(selectors_pair: tuple[fpl.RectangleSelector], ev: fpl.GraphicFeatureEvent):\n",
    "    for selector in selectors_pair:\n",
    "        selector.selection = ev.info[\"value\"]\n",
    "    \n",
    "    row_ixs, col_ixs = ev.get_selected_indices()\n",
    "    row_slice = slice(row_ixs[0], row_ixs[-1] + 1)\n",
    "    col_slice = slice(col_ixs[0], col_ixs[-1] + 1)\n",
    "\n",
    "    mcorr_temporal = full_moco_dense[:, row_slice, col_slice].mean(axis=(1, 2)).ravel()\n",
    "    pmd_temporal = pmd_arr_moco[:, row_slice, col_slice].mean(axis=(1, 2)).ravel()\n",
    "    residual_temporal = mcorr_temporal - pmd_temporal\n",
    "\n",
    "    fig_temporal[\"mcorr\"].graphics[0].data[:, 1] = mcorr_temporal\n",
    "    fig_temporal[\"pmd\"].graphics[0].data[:, 1] = pmd_temporal\n",
    "    fig_temporal[\"residual\"].graphics[0].data[:,1] = residual_temporal\n",
    "\n",
    "    for subplot in fig_temporal:\n",
    "        subplot.auto_scale()\n",
    "\n",
    "class ROIManager(ui.EdgeWindow):\n",
    "    def __init__(self, figure, size):\n",
    "        super().__init__(\n",
    "            figure=figure,\n",
    "            size=size,\n",
    "            location=\"right\",\n",
    "            title=\"ROI Selector\"\n",
    "        )\n",
    "\n",
    "        self.add_rois_mode = False\n",
    "\n",
    "    def update(self):\n",
    "        _, self.add_rois_mode = imgui.checkbox(\"Add ROI\", self.add_rois_mode)\n",
    "\n",
    "roi_manager = ROIManager(iw.figure, size=100)\n",
    "iw.figure.add_gui(roi_manager)\n",
    "\n",
    "RESIZING_NEW_RECT = False\n",
    "\n",
    "\n",
    "def add_rectangle(ev: pygfx.PointerEvent):\n",
    "    global RESIZING_NEW_RECT\n",
    "\n",
    "    if not roi_manager.add_rois_mode:\n",
    "        return\n",
    "    \n",
    "    if ev.button != 1:\n",
    "        return\n",
    "\n",
    "    for subplot in iw.figure:\n",
    "        subplot.controller.enabled = False\n",
    "        \n",
    "    # in world space\n",
    "    x, y = ev.pick_info[\"index\"]\n",
    "\n",
    "    new_selectors = list()\n",
    "    \n",
    "    for subplot in iw.figure:\n",
    "        if len(subplot.graphics) < 1:\n",
    "            continue  # empty subplot\n",
    "            \n",
    "        img = subplot[\"image_widget_managed\"]\n",
    "        new_selector = img.add_rectangle_selector(\n",
    "            selection=[x, x + 1, y, y + 1],\n",
    "            **rect_selector_kwargs\n",
    "        )\n",
    "    \n",
    "        if len(selectors[img]) > 0:\n",
    "            old_selector = selectors[img].pop()\n",
    "            subplot.remove_graphic(old_selector)\n",
    "            \n",
    "        selectors[img].append(new_selector)\n",
    "        new_selectors.append(new_selector)\n",
    "\n",
    "    for sel in new_selectors:\n",
    "        sel.add_event_handler(partial(rect_selector_moved, new_selectors), \"selection\")\n",
    "\n",
    "    RESIZING_NEW_RECT = True\n",
    "\n",
    "for img in image_graphics:\n",
    "    img.add_event_handler(add_rectangle, \"pointer_down\")\n",
    "\n",
    "@iw.figure.renderer.add_event_handler(\"pointer_move\")\n",
    "def resize_rect(ev: pygfx.PointerEvent):\n",
    "    global RESIZING_NEW_RECT\n",
    "    \n",
    "    if not RESIZING_NEW_RECT:\n",
    "        return\n",
    "\n",
    "    img = image_graphics[0]\n",
    "\n",
    "    for subplot in iw.figure:\n",
    "        # world (x, y)\n",
    "        pos = subplot.map_screen_to_world(ev)\n",
    "        if pos is None:\n",
    "            continue\n",
    "        else:\n",
    "            break\n",
    "\n",
    "    if pos is None:\n",
    "        # if pointer was moved outside the subplot\n",
    "        RESIZING_NEW_RECT = False\n",
    "        return\n",
    "\n",
    "    x2, y2, _ = pos\n",
    "\n",
    "    # most recently added selector\n",
    "    x1, _, y1, _ = selectors[img][-1].selection\n",
    "    \n",
    "    selectors[img][-1].selection = [x1, x2, y1, y2]\n",
    "\n",
    "\n",
    "@iw.figure.renderer.add_event_handler(\"pointer_up\")\n",
    "def end_resize(ev: pygfx.PointerEvent):\n",
    "    global RESIZING_NEW_RECT\n",
    "    \n",
    "    if ev.button != 1:\n",
    "        return\n",
    "    if not RESIZING_NEW_RECT:\n",
    "        return\n",
    "\n",
    "    for subplot in iw.figure:\n",
    "        subplot.controller.enabled = True\n",
    "    \n",
    "    RESIZING_NEW_RECT = False\n",
    "\n",
    "\n",
    "VBox([iw.show(), fig_temporal.show(maintain_aspect=False)])"
   ]
  },
  {
   "cell_type": "code",
   "execution_count": 21,
   "id": "d233e90f-162d-4a91-877c-5ce200af8d00",
   "metadata": {},
   "outputs": [],
   "source": []
  },
  {
   "cell_type": "code",
   "execution_count": null,
   "id": "785002d5-2ea7-4f50-99c3-8035316af4f5",
   "metadata": {},
   "outputs": [],
   "source": []
  }
 ],
 "metadata": {
  "kernelspec": {
   "display_name": "Python 3 (ipykernel)",
   "language": "python",
   "name": "python3"
  },
  "language_info": {
   "codemirror_mode": {
    "name": "ipython",
    "version": 3
   },
   "file_extension": ".py",
   "mimetype": "text/x-python",
   "name": "python",
   "nbconvert_exporter": "python",
   "pygments_lexer": "ipython3",
   "version": "3.11.9"
  }
 },
 "nbformat": 4,
 "nbformat_minor": 5
}
