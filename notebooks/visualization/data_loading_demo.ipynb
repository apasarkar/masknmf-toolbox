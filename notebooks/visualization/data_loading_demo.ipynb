{
 "cells": [
  {
   "cell_type": "code",
   "execution_count": 2,
   "id": "795c4170-2a0d-4300-b0ba-b063f81c7d53",
   "metadata": {},
   "outputs": [
    {
     "name": "stdout",
     "output_type": "stream",
     "text": [
      "The autoreload extension is already loaded. To reload it, use:\n",
      "  %reload_ext autoreload\n"
     ]
    }
   ],
   "source": [
    "import masknmf\n",
    "import fastplotlib as fpl\n",
    "import tifffile\n",
    "%load_ext autoreload"
   ]
  },
  {
   "cell_type": "markdown",
   "id": "c1a08040-087a-48eb-87e6-5c1840d83f3e",
   "metadata": {},
   "source": [
    "# You can load full datasets into RAM or you can define a LazyFrameLoader, which lazily loads frames into RAM as needed (this is useful for cases where you want to visualize + analyze huge datasets) "
   ]
  },
  {
   "cell_type": "code",
   "execution_count": 7,
   "id": "ebe860a0-6d24-4c52-aec8-b9b2ebd3f66b",
   "metadata": {},
   "outputs": [],
   "source": [
    "# Load full dataset into RAM:\n",
    "data_full = tifffile.imread(\"demoMovie.tif\")"
   ]
  },
  {
   "cell_type": "code",
   "execution_count": 8,
   "id": "89cd4705-f856-42dd-9430-4ad9c4966a93",
   "metadata": {},
   "outputs": [],
   "source": [
    "#Define a LazyArray\n",
    "data_lazy = masknmf.TiffArray(\"demoMovie.tif\")"
   ]
  },
  {
   "cell_type": "markdown",
   "id": "d665ce79-eb05-4a18-9c21-4bbabb7bee98",
   "metadata": {},
   "source": [
    "# Both of these arrays generate the same data"
   ]
  },
  {
   "cell_type": "code",
   "execution_count": 11,
   "id": "9541f719-6327-46a0-b2bc-3823e99f48f3",
   "metadata": {},
   "outputs": [],
   "source": [
    "iw = fpl.ImageWidget(data = [data_full, data_lazy],\n",
    "                    names = ['Full', 'LazyArray'])\n",
    "iw.cmap = 'gray'\n",
    "iw.show()"
   ]
  },
  {
   "cell_type": "markdown",
   "id": "a7809fc9-0fc4-4c21-9803-d150ef5a8390",
   "metadata": {},
   "source": [
    "# Notes: it is easy to define dataloading support for different file types (just define a LazyFrameLoader object)"
   ]
  }
 ],
 "metadata": {
  "kernelspec": {
   "display_name": "Python 3 (ipykernel)",
   "language": "python",
   "name": "python3"
  },
  "language_info": {
   "codemirror_mode": {
    "name": "ipython",
    "version": 3
   },
   "file_extension": ".py",
   "mimetype": "text/x-python",
   "name": "python",
   "nbconvert_exporter": "python",
   "pygments_lexer": "ipython3",
   "version": "3.11.9"
  }
 },
 "nbformat": 4,
 "nbformat_minor": 5
}
