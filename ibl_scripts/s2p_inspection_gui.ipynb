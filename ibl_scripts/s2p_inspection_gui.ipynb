{
 "cells": [
  {
   "cell_type": "code",
   "execution_count": 10,
   "id": "d32da07b-4990-4c1f-80bd-e92686bb3ffe",
   "metadata": {},
   "outputs": [],
   "source": [
    "import fastplotlib as fpl\n",
    "import masknmf\n",
    "import numpy as np\n",
    "import os\n",
    "import torch\n",
    "from typing import *\n",
    "import pathlib\n",
    "from pathlib import Path\n",
    "import os\n",
    "import s2p_inspection_utils\n",
    "%load_ext autoreload"
   ]
  },
  {
   "cell_type": "markdown",
   "id": "ba36263f-074c-4a09-9a34-80a9e71c3dd4",
   "metadata": {},
   "source": [
    "# Access results, use this to visualize/plot demixing quality from any pipeline"
   ]
  },
  {
   "cell_type": "code",
   "execution_count": 2,
   "id": "d85ca89d-408b-45b8-bf38-20e573521e19",
   "metadata": {},
   "outputs": [],
   "source": [
    "pmd = np.load(\"pmd_results.npz\", allow_pickle=True)['pmd_denoise'].item()"
   ]
  },
  {
   "cell_type": "code",
   "execution_count": 3,
   "id": "dc346a77-fbb1-4a86-b500-06b1afdf1af0",
   "metadata": {},
   "outputs": [],
   "source": [
    "folder = \"/suite2p/results/path/\""
   ]
  },
  {
   "cell_type": "code",
   "execution_count": 6,
   "id": "9b1f9744-a67e-43d4-8904-39762356b8e9",
   "metadata": {},
   "outputs": [],
   "source": [
    "results = s2p_inspection_utils.build_s2p_demixingresults(folder,\n",
    "                                                         pmd,\n",
    "                                                         device = 'cuda')"
   ]
  },
  {
   "cell_type": "code",
   "execution_count": 9,
   "id": "fc155eb1-09f1-411c-9c2b-3bc058d3e795",
   "metadata": {},
   "outputs": [],
   "source": [
    "iw = masknmf.make_demixing_video(results,\n",
    "                         'cuda',\n",
    "                         v_range = [-500, 1300],\n",
    "                         show_histogram = True)\n",
    "iw.show()"
   ]
  },
  {
   "cell_type": "code",
   "execution_count": null,
   "id": "ab98fcf7-f9f2-4d42-9219-2e970f5a6cec",
   "metadata": {},
   "outputs": [],
   "source": []
  }
 ],
 "metadata": {
  "kernelspec": {
   "display_name": "Python 3 (ipykernel)",
   "language": "python",
   "name": "python3"
  },
  "language_info": {
   "codemirror_mode": {
    "name": "ipython",
    "version": 3
   },
   "file_extension": ".py",
   "mimetype": "text/x-python",
   "name": "python",
   "nbconvert_exporter": "python",
   "pygments_lexer": "ipython3",
   "version": "3.11.9"
  }
 },
 "nbformat": 4,
 "nbformat_minor": 5
}
